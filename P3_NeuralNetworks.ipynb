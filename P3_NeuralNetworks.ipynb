{
 "nbformat": 4,
 "nbformat_minor": 0,
 "metadata": {
  "colab": {
   "provenance": [],
   "collapsed_sections": [
    "M3BrTKOwa8Lb",
    "X2URGi0bbDKP",
    "QEcdO0wmbE1-",
    "nBkueZrS9aRR",
    "2dZQVZVZwRjU",
    "yx3zDPUXU4oA",
    "MxsojjAzs3dn",
    "gA2hDCcovujy",
    "OzawZ_4kvvl3",
    "jBcUPiT-vx-g",
    "YhUpZgq5fjD3",
    "8bF5-P_Y0h9t",
    "uStwppMUFXbf",
    "nxtTGLqbFZgB",
    "lPFEpDkJFbln",
    "cVEQFf7xGypd",
    "p1FFO8IUJJud",
    "5iMQfqcc0h9t",
    "be6e0EGG0h9u",
    "-xwZAE4I0h9u",
    "3hq-iiM50h9v"
   ]
  },
  "kernelspec": {
   "name": "python3",
   "display_name": "Python 3 (ipykernel)",
   "language": "python"
  },
  "language_info": {
   "name": "python"
  }
 },
 "cells": [
  {
   "cell_type": "markdown",
   "source": [
    "# 3rd practice: Neural Networks\n",
    "* **Course**: Artificial Intelligence\n",
    "* **University**: Universitat Rovira i Virgili\n",
    "\n",
    "In this practice students will explore the following fundamentals of machine learning:\n",
    "* Data analysis\n",
    "* Preprocessing\n",
    "* Basic desgin of Multi-Layer Perceptrons (MLP)\n",
    "* Training of neural networks\n",
    "* Results analysis\n",
    "* Decision making / Critical thinking\n",
    "\n",
    "While reading this notebook, please note the following information:\n",
    "* Each section (and subsection) has a title and a brief description of its contents.\n",
    "* If a section (or subsection) title starts with `Student`, the student has work to do inside it, adding code and/or text.\n",
    "* If the title of a section begins with `Teacher`, all its content (including subsections) is part of the work statement. Subsequently, it **MUST NOT** be modified.\n",
    "* Sections must be executed in order.\n",
    "* **<font color='lightgreen'>Please enter your full name in the next cell in this section and run it BEFORE going any further.</font>**\n",
    "\n",
    "## External resources\n",
    "Please, read the following tutorials to get an introduction to Google Colab and the Pandas library:\n",
    "* https://colab.research.google.com/notebooks/basic_features_overview.ipynb\n",
    "* https://colab.research.google.com/notebooks/mlcc/intro_to_pandas.ipynb\n",
    "\n",
    "## Deliverable\n",
    "It is an **individual** practice. The student only needs to deliver **this notebook** including the answers. The file must have as name `P3_[Name]_[Surname/s].ipynb`, replacing `[Name]` and `[Surname/s]` with those from the student.\n",
    "\n",
    "## Evaluation\n",
    "To be accepted, all practices delivered must contain at least **one solution with a preprocessing step** and **one solution with a modified neural network**.\n",
    "A third solution with a second preprocessing step will be valued.\n",
    "\n",
    "<font color='orange'>**Similar or identical practices will get a grade of 0.**</font>"
   ],
   "metadata": {
    "id": "4VsFsqBkwS2u"
   }
  },
  {
   "cell_type": "code",
   "source": "STUDENT_NAME = \"GERARD PASCUAL FONTANILLES\" # @param {type:\"string\"}",
   "metadata": {
    "id": "isV-YN1wwW3d",
    "cellView": "form",
    "ExecuteTime": {
     "end_time": "2024-05-08T09:48:26.204248Z",
     "start_time": "2024-05-08T09:48:26.201118Z"
    }
   },
   "outputs": [],
   "execution_count": 1
  },
  {
   "cell_type": "markdown",
   "source": [
    "# Teacher: Initialization\n",
    "Defines the **Imports** and **Device** for the practice. More details in each subsection."
   ],
   "metadata": {
    "id": "M3BrTKOwa8Lb"
   }
  },
  {
   "cell_type": "markdown",
   "source": [
    "## Imports\n",
    "The following code cell determines the available packages/libraries.\n",
    "\n",
    "**You CANNOT add any other import, neither here nor anywhere else in the code.**"
   ],
   "metadata": {
    "id": "X2URGi0bbDKP"
   }
  },
  {
   "cell_type": "code",
   "source": [
    "import pandas as pd\n",
    "import numpy as np\n",
    "\n",
    "from sklearn.model_selection import train_test_split\n",
    "from sklearn.preprocessing import LabelEncoder, OneHotEncoder\n",
    "from sklearn.compose import ColumnTransformer\n",
    "\n",
    "import torch\n",
    "import torch.nn as nn\n",
    "import torch.optim as optim\n",
    "from torch.utils.data import TensorDataset, DataLoader\n",
    "import torch.nn.functional as F\n",
    "\n",
    "import matplotlib.pyplot as plt\n",
    "from IPython import display\n",
    "from sklearn.metrics import accuracy_score\n",
    "from sklearn.metrics import confusion_matrix\n",
    "import seaborn as sns"
   ],
   "metadata": {
    "id": "qqAqx8e9p_yh",
    "ExecuteTime": {
     "end_time": "2024-05-08T09:48:31.857518Z",
     "start_time": "2024-05-08T09:48:29.329045Z"
    }
   },
   "outputs": [],
   "execution_count": 2
  },
  {
   "cell_type": "markdown",
   "source": [
    "## Device\n",
    "Checks if there is a GPU for training the neural networks. If not, the CPU will be used. It is recommended to first test if the preprocessing and model definition are correct in a CPU-based environment and then switch to the GPU-based environment for training."
   ],
   "metadata": {
    "id": "QEcdO0wmbE1-"
   }
  },
  {
   "cell_type": "code",
   "source": [
    "if torch.cuda.is_available():\n",
    "  DEVICE = \"cuda\"\n",
    "  print(\"There is GPU available. Printing GPU information:\")\n",
    "  !nvidia-smi\n",
    "else:\n",
    "  DEVICE = \"cpu\"\n",
    "  print(\"There is no GPU available, using CPU.\")"
   ],
   "metadata": {
    "id": "fV40luAAw4hf",
    "colab": {
     "base_uri": "https://localhost:8080/"
    },
    "outputId": "5dc1abac-aa28-4770-a3b7-335039c11f2a",
    "ExecuteTime": {
     "end_time": "2024-05-08T09:48:32.837499Z",
     "start_time": "2024-05-08T09:48:32.831036Z"
    }
   },
   "outputs": [
    {
     "name": "stdout",
     "output_type": "stream",
     "text": [
      "There is no GPU available, using CPU.\n"
     ]
    }
   ],
   "execution_count": 3
  },
  {
   "cell_type": "markdown",
   "source": [
    "# Teacher: Base code\n",
    "<a name=\"base_code\"></a>\n",
    "\n",
    "Code available for use in the `Student` sections."
   ],
   "metadata": {
    "id": "nBkueZrS9aRR"
   }
  },
  {
   "cell_type": "markdown",
   "source": [
    "## Data loading\n",
    "This loads the `CarsData.csv` file (available in Moodle) as a Pandas dataframe. **The file must first be loaded into the environment folder** ![image.png](data:image/png;base64,iVBORw0KGgoAAAANSUhEUgAAACkAAAAqCAYAAAAu9HJYAAABEElEQVRYCWOwsLD4P9gxw2B3IMh9DC8Kuf6D8GB27KgjqRU7oyE5GpLUCgFqmTOaJkdDklohQC1zSEqTVX7q/+/n8YCrUVh1CqOfFXD9nx0h/9+SBg0Woh3pY2/8/3KWAFYH0tqhRDsywMHw/40cPjAGsdGjsilA9f+TAm68noB5BhQboFhBNwMXn2qOBFlAikNBsQKKHVwOQxanqiORDcbFJhQj2PSNOhJbqIyGJDkhMBqS1AoBapkzmrtHQxJbCBDTwIDVzcTQNKkWQQ7H11QjxmEwNTRrYGALXXqJEZ276eUgbPaMOhJbqJAjNhqS5IQaNj2jIYktVMgRGw1JckINm56hEZLYXD7YxIbEPA4AO3Sw4kFc2wQAAAAASUVORK5CYII=). If you use a web browser *other* than Google Chrome, the loading may fail (e.g., the loading circle is red and never ends).\n",
    "\n",
    "This dataset will be used for the **Manufacturer classification task**, where the machine learning model aims to predict/output the Manufacturer of a car using the rest of features as inputs.\n",
    "\n",
    "The dataset was extracted from [this website](https://www.kaggle.com/datasets/meruvulikith/90000-cars-data-from-1970-to-2024/data). The dataframe to be used in practice is a 25% subsample of the full dataset, different from that of other students."
   ],
   "metadata": {
    "id": "2dZQVZVZwRjU"
   }
  },
  {
   "cell_type": "code",
   "source": [
    "LABEL_COL_NAME = \"Manufacturer\" # Global constant\n",
    "\n",
    "def data_loading(file_name):\n",
    "  original_df = pd.read_csv(file_name)\n",
    "  original_df = original_df.drop(columns=[\"model\"]) # Model column is not available\n",
    "  original_df\n",
    "\n",
    "  # Infer column types\n",
    "  infer_type = lambda x: x if pd.api.types.is_numeric_dtype(x) else pd.Categorical(x)\n",
    "  original_df = original_df.apply(infer_type, axis=0)\n",
    "\n",
    "  # Select subset\n",
    "  frac=0.25\n",
    "  random_seed = hash(STUDENT_NAME) % (2**32-1) # Seed must be between 0 and 2**32 - 1\n",
    "  student_df = original_df.sample(frac=frac, random_state=random_seed).reset_index()\n",
    "  student_df = student_df.drop(columns=[\"index\"])\n",
    "\n",
    "  return student_df"
   ],
   "metadata": {
    "id": "CdW-8WIeuJYA",
    "ExecuteTime": {
     "end_time": "2024-05-08T09:48:37.559036Z",
     "start_time": "2024-05-08T09:48:37.554280Z"
    }
   },
   "outputs": [],
   "execution_count": 4
  },
  {
   "cell_type": "markdown",
   "source": [
    "## Analysis\n",
    "Functions that facilitate the data distribution analysis for the [Student: Exploratory data analysis](#data_analysis) section."
   ],
   "metadata": {
    "id": "yx3zDPUXU4oA"
   }
  },
  {
   "cell_type": "code",
   "source": [
    "def feature_histogram(df, column_name):\n",
    "    column_data = df[column_name]\n",
    "\n",
    "    if pd.api.types.is_numeric_dtype(column_data):\n",
    "        plt.hist(column_data, bins=10)\n",
    "    else:\n",
    "        value_counts = column_data.value_counts()\n",
    "        value_counts.plot(kind='bar')\n",
    "\n",
    "    plt.xlabel(column_name)\n",
    "    plt.ylabel('Frequency')\n",
    "    plt.title('Histogram of {}'.format(column_name))\n",
    "    plt.show()\n",
    "\n",
    "\n",
    "def feature_stats(df, column_name, verbose=True):\n",
    "  stats = {}\n",
    "  column_data = df[column_name]\n",
    "\n",
    "  # Numerical\n",
    "  if pd.api.types.is_numeric_dtype(column_data):\n",
    "    stats[\"Min\"] = column_data.min()\n",
    "    stats[\"Max\"] = column_data.max()\n",
    "    stats[\"Mean\"] = column_data.mean()\n",
    "    stats[\"Std\"] = column_data.std()\n",
    "\n",
    "  # Categorical\n",
    "  elif pd.api.types.is_categorical_dtype(column_data):\n",
    "    stats[\"Unique\"] = column_data.value_counts()\n",
    "\n",
    "  if verbose and len(stats) > 0:\n",
    "    stats_str = \"\"\n",
    "    for name, value in stats.items():\n",
    "      stats_str += f\" {name}={value} |\"\n",
    "    print(f\"Stats of {column_name}:{stats_str}\")\n",
    "\n",
    "  return stats\n",
    "\n",
    "\n",
    "def features_relationship(df, column_name_1, column_name_2):\n",
    "    data1 = df[column_name_1]\n",
    "    data2 = df[column_name_2]\n",
    "\n",
    "    # Both columns are numerical\n",
    "    if pd.api.types.is_numeric_dtype(data1) and pd.api.types.is_numeric_dtype(data2):\n",
    "        plt.scatter(data1, data2)\n",
    "        plt.xlabel(column_name_1)\n",
    "        plt.ylabel(column_name_2)\n",
    "        plt.title('Relationship between {} and {}'.format(column_name_1, column_name_2))\n",
    "        plt.show()\n",
    "    # Both columns are categorical\n",
    "    elif pd.api.types.is_categorical_dtype(data1) and pd.api.types.is_categorical_dtype(data2):\n",
    "        cross_table = pd.crosstab(data1, data2)\n",
    "        cross_table.plot(kind='bar', stacked=True)\n",
    "        plt.xlabel(column_name_1)\n",
    "        plt.ylabel('Frequency')\n",
    "        plt.title('Relationship between {} and {}'.format(column_name_1, column_name_2))\n",
    "        plt.show()\n",
    "    # A column is numerical and the other categorical\n",
    "    else:\n",
    "        # Check which is which\n",
    "        if pd.api.types.is_categorical_dtype(data1):\n",
    "            categorical_column = column_name_1\n",
    "            numerical_column = column_name_2\n",
    "        else:\n",
    "            categorical_column = column_name_2\n",
    "            numerical_column = column_name_1\n",
    "\n",
    "        # Get data\n",
    "        categorical_data = df[categorical_column]\n",
    "        numerical_data = df[numerical_column]\n",
    "\n",
    "        # Convert categorical data to numeric representation\n",
    "        categorical_codes = categorical_data.astype('category').cat.codes\n",
    "\n",
    "        # Plot\n",
    "        plt.scatter(numerical_data, categorical_codes)\n",
    "        plt.xlabel(numerical_column)\n",
    "        plt.ylabel(categorical_column)\n",
    "        plt.title('Relationship between {} and {}'.format(numerical_column, categorical_column))\n",
    "        plt.yticks(ticks=categorical_codes.unique(), labels=categorical_data.unique()) # Set yticks labels as category names\n",
    "        plt.show()"
   ],
   "metadata": {
    "id": "Vwbgy0_NU7b_",
    "ExecuteTime": {
     "end_time": "2024-05-08T09:48:40.964571Z",
     "start_time": "2024-05-08T09:48:40.954806Z"
    }
   },
   "outputs": [],
   "execution_count": 5
  },
  {
   "cell_type": "markdown",
   "source": [
    "## PyTorch dataset\n",
    "Function that transforms the preprocessed dataframe into the training and test datasets using the PyTorch TensorDataset class. To be used in the [Experiments](#experiments) section."
   ],
   "metadata": {
    "id": "MxsojjAzs3dn"
   }
  },
  {
   "cell_type": "code",
   "source": [
    "def df_to_dataset(preprocessed_df, label_col_name=LABEL_COL_NAME):\n",
    "  if not label_col_name in preprocessed_df.columns:\n",
    "    raise Exception(f\"Dataframe MUST contain the label column [{label_col_name}], preferably in the last column.\")\n",
    "\n",
    "  # Obtain inputs and labels\n",
    "  columns_to_discard = [col_name for col_name in preprocessed_df.columns if col_name == label_col_name]\n",
    "  x = preprocessed_df.drop(columns=columns_to_discard)\n",
    "  y = preprocessed_df[label_col_name]\n",
    "\n",
    "  # Encode labels (string to identifier integer)\n",
    "  label_encoder = LabelEncoder()\n",
    "  y = label_encoder.fit_transform(y)\n",
    "\n",
    "  # Convert data to PyTorch tensors\n",
    "  x_tensor = torch.tensor(x.values, dtype=torch.float)\n",
    "  y_tensor = torch.tensor(y, dtype=torch.long)\n",
    "\n",
    "  # Train-test split: 80% train, 20% test\n",
    "  x_train_tensor, x_test_tensor, y_train_tensor, y_test_tensor = train_test_split(x_tensor, y_tensor, test_size=0.2, random_state=42, shuffle=True)\n",
    "\n",
    "  # Create PyTorch datasets\n",
    "  train_dataset = TensorDataset(x_train_tensor, y_train_tensor)\n",
    "  test_dataset = TensorDataset(x_test_tensor, y_test_tensor)\n",
    "\n",
    "  # Get additional information for the model\n",
    "  input_size = x_train_tensor.shape[1]\n",
    "  num_classes = len(label_encoder.classes_)\n",
    "\n",
    "  return train_dataset, test_dataset, input_size, num_classes, label_encoder"
   ],
   "metadata": {
    "id": "d33JkXNl79nY",
    "ExecuteTime": {
     "end_time": "2024-05-08T09:48:43.545474Z",
     "start_time": "2024-05-08T09:48:43.539988Z"
    }
   },
   "outputs": [],
   "execution_count": 6
  },
  {
   "cell_type": "markdown",
   "source": [
    "## Model\n",
    "Basic function for the model creation and its movement to the corresponding DEVICE (GPU or CPU). To be used in the [Experiments](#experiments) section."
   ],
   "metadata": {
    "id": "gA2hDCcovujy"
   }
  },
  {
   "cell_type": "code",
   "source": [
    "def create_model(model_class, input_size, num_classes, verbose=True):\n",
    "  model = model_class(input_size, num_classes)\n",
    "  model.to(DEVICE)\n",
    "\n",
    "  if verbose:\n",
    "    num_parameters = 0\n",
    "    for layer in model.parameters():\n",
    "      num_parameters += layer.nelement() * layer.element_size()\n",
    "    print(f\"The model has {num_parameters} parameters\")\n",
    "\n",
    "  return model"
   ],
   "metadata": {
    "id": "h4PJJ85gqhJ5",
    "ExecuteTime": {
     "end_time": "2024-05-08T08:18:22.564055Z",
     "start_time": "2024-05-08T08:18:22.560021Z"
    }
   },
   "outputs": [],
   "execution_count": 6
  },
  {
   "cell_type": "markdown",
   "source": [
    "## Training\n",
    "Function that trains a **model** with a **dataset**, for a **number of epochs** and using a specific **learning rate (lr)**. To be used in the [Experiments](#experiments) section."
   ],
   "metadata": {
    "id": "OzawZ_4kvvl3"
   }
  },
  {
   "cell_type": "code",
   "source": [
    "def train(model, dataset, num_epochs, lr):\n",
    "    # Loss and optimizer\n",
    "    criterion = nn.CrossEntropyLoss()\n",
    "    optimizer = optim.Adam(model.parameters(), lr=lr)\n",
    "\n",
    "    # Create PyTorch dataloader\n",
    "    train_loader = DataLoader(dataset, batch_size=32, shuffle=True)\n",
    "\n",
    "    # Set up loss evolution plot\n",
    "    losses = []\n",
    "    plt.ion()\n",
    "    fig, ax = plt.subplots()\n",
    "    ax.set_xlabel('Epoch')\n",
    "    ax.set_ylabel('Loss')\n",
    "    ax.set_title('Training Loss Evolution')\n",
    "    line, = ax.plot([], [])\n",
    "\n",
    "    # Training loop\n",
    "    for epoch in range(num_epochs):\n",
    "        # Set model to train mode\n",
    "        model.train()\n",
    "\n",
    "        epoch_loss = 0.0\n",
    "        num_batches = 0\n",
    "\n",
    "        for inputs, targets in train_loader:\n",
    "            # Move data to GPU\n",
    "            inputs, targets = inputs.to(DEVICE), targets.to(DEVICE)\n",
    "\n",
    "            # Forward pass\n",
    "            outputs = model(inputs)\n",
    "            loss = criterion(outputs, targets)\n",
    "\n",
    "            # Backward and optimize\n",
    "            optimizer.zero_grad()\n",
    "            loss.backward()\n",
    "            optimizer.step()\n",
    "\n",
    "            # Update epoch loss\n",
    "            epoch_loss += loss.item()\n",
    "            num_batches += 1\n",
    "\n",
    "        # Update lists for loss plotting\n",
    "        mean_epoch_loss = epoch_loss / num_batches\n",
    "        losses.append(mean_epoch_loss)\n",
    "\n",
    "        # Update plot\n",
    "        line.set_ydata(losses)\n",
    "        line.set_xdata(range(1, len(losses)+1))\n",
    "        ax.relim()\n",
    "        ax.autoscale_view()\n",
    "        display.clear_output(wait=True)\n",
    "        display.display(plt.gcf())\n",
    "\n",
    "        # Print specific epoch info\n",
    "        print(f'Epoch [{epoch+1}/{num_epochs}] | Mean epoch loss: {mean_epoch_loss:.4f}')\n",
    "\n",
    "    # Turn off interactive mode and show plot\n",
    "    plt.ioff()\n",
    "    plt.close()\n",
    "\n",
    "    return losses"
   ],
   "metadata": {
    "id": "Z0AXXQK635dI",
    "ExecuteTime": {
     "end_time": "2024-05-08T08:18:26.608587Z",
     "start_time": "2024-05-08T08:18:26.597835Z"
    }
   },
   "outputs": [],
   "execution_count": 7
  },
  {
   "cell_type": "markdown",
   "source": [
    "## Evaluation\n",
    "Functions for the result analysis of the [Experiments](#experiments) section. In particular, for the analysis of [classification accuracy](https://developers.google.com/machine-learning/crash-course/classification/accuracy?hl=es-419) and [confusion matrix](https://en.wikipedia.org/wiki/Confusion_matrix).\n"
   ],
   "metadata": {
    "id": "jBcUPiT-vx-g"
   }
  },
  {
   "cell_type": "code",
   "source": [
    "def evaluate(model, dataset):\n",
    "  # Create dataloader\n",
    "  eval_loader = DataLoader(dataset, batch_size=256, shuffle=False)\n",
    "\n",
    "  model.eval()  # Set model to evaluation mode\n",
    "  with torch.no_grad():\n",
    "      correct = 0\n",
    "      total = 0\n",
    "      all_targets = np.empty(len(dataset), dtype=int)\n",
    "      all_predicted = np.empty_like(all_targets)\n",
    "      for inputs, targets in eval_loader:\n",
    "          # Move data to GPU\n",
    "          inputs, targets = inputs.to(DEVICE), targets.to(DEVICE)\n",
    "\n",
    "          # Forward pass\n",
    "          outputs = model(inputs)\n",
    "          _, predicted = torch.max(outputs, 1)\n",
    "\n",
    "          # Store targets and predicted labels\n",
    "          all_targets[total:total+targets.size(0)] = targets.cpu().numpy()\n",
    "          all_predicted[total:total+targets.size(0)] = predicted.cpu().numpy()\n",
    "\n",
    "          # Update total and correct predictions\n",
    "          total += targets.size(0)\n",
    "          correct += (predicted == targets).sum().item()\n",
    "\n",
    "      accuracy = correct / total\n",
    "\n",
    "  return accuracy, all_targets, all_predicted\n",
    "\n",
    "\n",
    "def plot_confusion_matrix(all_targets, all_predicted, label_encoder):\n",
    "  # Calculate confusion matrix\n",
    "  cm = confusion_matrix(all_targets, all_predicted)\n",
    "\n",
    "  # Plot confusion matrix\n",
    "  plt.figure(figsize=(10, 8))\n",
    "  sns.heatmap(cm, annot=True, cmap='Blues', fmt='g', xticklabels=label_encoder.classes_, yticklabels=label_encoder.classes_)\n",
    "  plt.xlabel('Predicted labels')\n",
    "  plt.ylabel('True labels')\n",
    "  plt.title('Confusion Matrix')\n",
    "  plt.show()"
   ],
   "metadata": {
    "id": "Yvsz3pZ9qi6V",
    "ExecuteTime": {
     "end_time": "2024-05-08T08:18:33.228872Z",
     "start_time": "2024-05-08T08:18:33.221594Z"
    }
   },
   "outputs": [],
   "execution_count": 8
  },
  {
   "cell_type": "markdown",
   "source": [
    "# Student: Exploratory data analysis\n",
    "<a name=\"data_analysis\"></a>\n",
    "\n",
    "In this section, the student will have to perform the following tasks:\n",
    "* Load the dataset.\n",
    "* Analyze each feature's data distribution using plots, Pandas code (if needed) and textual reasoning (approximately one paragraph per feature) about them.\n",
    "* Analyze relevant relationships between pairs of features' data distributions with plots, Pandas code (if needed) and textual reasoning (approximately one paragraph per relationship) about them. Focus only on the important pairs to avoid overwhelming combinations."
   ],
   "metadata": {
    "id": "YhUpZgq5fjD3"
   }
  },
  {
   "cell_type": "code",
   "source": "df = data_loading(\"CarsData.csv\")",
   "metadata": {
    "id": "64hxfYsTxr0f",
    "ExecuteTime": {
     "end_time": "2024-05-08T08:40:28.364443Z",
     "start_time": "2024-05-08T08:40:28.188794Z"
    }
   },
   "outputs": [],
   "execution_count": 35
  },
  {
   "metadata": {
    "ExecuteTime": {
     "end_time": "2024-05-08T08:40:30.704013Z",
     "start_time": "2024-05-08T08:40:30.691854Z"
    }
   },
   "cell_type": "code",
   "source": "df.head() # Show the first rows of the dataframe to check the data",
   "outputs": [
    {
     "data": {
      "text/plain": [
       "   year  price transmission  mileage fuelType  tax   mpg  engineSize  \\\n",
       "0  2018   9995       Manual    30007   Petrol  150  57.7         1.0   \n",
       "1  2018  17785    Semi-Auto    13734   Petrol  145  42.8         2.0   \n",
       "2  2007   2799    Automatic    50403   Petrol  260  37.1         1.6   \n",
       "3  2018  19100    Automatic    42209   Petrol  145  42.2         2.0   \n",
       "4  2017   9999       Manual    27005   Petrol  125  51.4         1.4   \n",
       "\n",
       "  Manufacturer  \n",
       "0       hyundi  \n",
       "1        skoda  \n",
       "2         ford  \n",
       "3         Audi  \n",
       "4     vauxhall  "
      ],
      "text/html": [
       "<div>\n",
       "<style scoped>\n",
       "    .dataframe tbody tr th:only-of-type {\n",
       "        vertical-align: middle;\n",
       "    }\n",
       "\n",
       "    .dataframe tbody tr th {\n",
       "        vertical-align: top;\n",
       "    }\n",
       "\n",
       "    .dataframe thead th {\n",
       "        text-align: right;\n",
       "    }\n",
       "</style>\n",
       "<table border=\"1\" class=\"dataframe\">\n",
       "  <thead>\n",
       "    <tr style=\"text-align: right;\">\n",
       "      <th></th>\n",
       "      <th>year</th>\n",
       "      <th>price</th>\n",
       "      <th>transmission</th>\n",
       "      <th>mileage</th>\n",
       "      <th>fuelType</th>\n",
       "      <th>tax</th>\n",
       "      <th>mpg</th>\n",
       "      <th>engineSize</th>\n",
       "      <th>Manufacturer</th>\n",
       "    </tr>\n",
       "  </thead>\n",
       "  <tbody>\n",
       "    <tr>\n",
       "      <th>0</th>\n",
       "      <td>2018</td>\n",
       "      <td>9995</td>\n",
       "      <td>Manual</td>\n",
       "      <td>30007</td>\n",
       "      <td>Petrol</td>\n",
       "      <td>150</td>\n",
       "      <td>57.7</td>\n",
       "      <td>1.0</td>\n",
       "      <td>hyundi</td>\n",
       "    </tr>\n",
       "    <tr>\n",
       "      <th>1</th>\n",
       "      <td>2018</td>\n",
       "      <td>17785</td>\n",
       "      <td>Semi-Auto</td>\n",
       "      <td>13734</td>\n",
       "      <td>Petrol</td>\n",
       "      <td>145</td>\n",
       "      <td>42.8</td>\n",
       "      <td>2.0</td>\n",
       "      <td>skoda</td>\n",
       "    </tr>\n",
       "    <tr>\n",
       "      <th>2</th>\n",
       "      <td>2007</td>\n",
       "      <td>2799</td>\n",
       "      <td>Automatic</td>\n",
       "      <td>50403</td>\n",
       "      <td>Petrol</td>\n",
       "      <td>260</td>\n",
       "      <td>37.1</td>\n",
       "      <td>1.6</td>\n",
       "      <td>ford</td>\n",
       "    </tr>\n",
       "    <tr>\n",
       "      <th>3</th>\n",
       "      <td>2018</td>\n",
       "      <td>19100</td>\n",
       "      <td>Automatic</td>\n",
       "      <td>42209</td>\n",
       "      <td>Petrol</td>\n",
       "      <td>145</td>\n",
       "      <td>42.2</td>\n",
       "      <td>2.0</td>\n",
       "      <td>Audi</td>\n",
       "    </tr>\n",
       "    <tr>\n",
       "      <th>4</th>\n",
       "      <td>2017</td>\n",
       "      <td>9999</td>\n",
       "      <td>Manual</td>\n",
       "      <td>27005</td>\n",
       "      <td>Petrol</td>\n",
       "      <td>125</td>\n",
       "      <td>51.4</td>\n",
       "      <td>1.4</td>\n",
       "      <td>vauxhall</td>\n",
       "    </tr>\n",
       "  </tbody>\n",
       "</table>\n",
       "</div>"
      ]
     },
     "execution_count": 36,
     "metadata": {},
     "output_type": "execute_result"
    }
   ],
   "execution_count": 36
  },
  {
   "metadata": {
    "ExecuteTime": {
     "end_time": "2024-05-08T08:25:16.644487Z",
     "start_time": "2024-05-08T08:25:15.973402Z"
    }
   },
   "cell_type": "code",
   "source": [
    "# Plotting a line chart\n",
    "data.plot()\n",
    "plt.title('Line Chart')\n",
    "plt.xlabel('X-axis')\n",
    "plt.ylabel('Y-axis')\n",
    "plt.show()"
   ],
   "outputs": [
    {
     "data": {
      "text/plain": [
       "<Figure size 640x480 with 1 Axes>"
      ],
      "image/png": "[encoded data removed]"
     },
     "metadata": {},
     "output_type": "display_data"
    }
   ],
   "execution_count": 15
  },
  {
   "metadata": {},
   "cell_type": "code",
   "source": [
    "# Plotting a bar chart\n",
    "data.plot(kind='bar')\n",
    "plt.title('Bar Chart')\n",
    "plt.xlabel('X-axis')\n",
    "plt.ylabel('Y-axis')\n",
    "plt.show()"
   ],
   "outputs": [],
   "execution_count": null
  },
  {
   "metadata": {},
   "cell_type": "code",
   "source": [
    "# Plotting a histogram\n",
    "data.plot(kind='hist')\n",
    "plt.title('Histogram')\n",
    "plt.xlabel('Values')\n",
    "plt.ylabel('Frequency')\n",
    "plt.show()"
   ],
   "outputs": [],
   "execution_count": null
  },
  {
   "cell_type": "markdown",
   "source": [
    "# Teacher: Baseline solution\n",
    "<a name=\"baseline\"></a>\n",
    "This defines the most basic (and unsuccessful) ready-to-use solution for the **Manufacturer classification task**. It includes the main components:\n",
    "* Preprocessing\n",
    "* Model\n",
    "* Training\n",
    "* Evaluation\n",
    "\n",
    "Nonetheless, there are a lot of important things missing, as can be seen from the very poor results. Use this as inspiration for your [Solution 1A](#solution_1a), that **must** be better than this."
   ],
   "metadata": {
    "id": "8bF5-P_Y0h9t"
   }
  },
  {
   "cell_type": "markdown",
   "source": [
    "## Preprocessing"
   ],
   "metadata": {
    "id": "uStwppMUFXbf"
   }
  },
  {
   "cell_type": "code",
   "source": [
    "def preprocessing_0(df):\n",
    "  preprocessed_df = df.copy()\n",
    "\n",
    "  # Define columns to use and categorical\n",
    "  categorical_cols = [\"transmission\", \"fuelType\"]\n",
    "  columns_to_use = [\"year\", \"price\", \"mileage\", \"tax\", \"mpg\", \"engineSize\"] + categorical_cols\n",
    "\n",
    "  # Select columns to use\n",
    "  preprocessed_df = preprocessed_df[columns_to_use]\n",
    "\n",
    "  # Column transformer of the features\n",
    "  column_transformer = ColumnTransformer([('onehot', OneHotEncoder(), categorical_cols)],\n",
    "                                         remainder='passthrough')\n",
    "  preprocessed_df = pd.DataFrame(column_transformer.fit_transform(preprocessed_df))\n",
    "  # IMPORTANT: Student's can't use ColumnTransformer or similars, only Pandas functions\n",
    "\n",
    "  # Label column at the end\n",
    "  preprocessed_df[LABEL_COL_NAME] = df[LABEL_COL_NAME]\n",
    "\n",
    "  return preprocessed_df\n",
    "\n",
    "preprocessed_df = preprocessing_0(df)\n",
    "train_dataset, test_dataset, input_size, num_classes, label_encoder = df_to_dataset(preprocessed_df)"
   ],
   "metadata": {
    "id": "fQhqKKIt0h9t",
    "ExecuteTime": {
     "end_time": "2024-05-08T08:40:36.778072Z",
     "start_time": "2024-05-08T08:40:36.740565Z"
    }
   },
   "outputs": [],
   "execution_count": 37
  },
  {
   "metadata": {
    "ExecuteTime": {
     "end_time": "2024-05-08T08:40:38.714750Z",
     "start_time": "2024-05-08T08:40:38.691813Z"
    }
   },
   "cell_type": "code",
   "source": "preprocessed_df.head() # Show the first rows of the preprocessed dataframe to check the data",
   "outputs": [
    {
     "data": {
      "text/plain": [
       "     0    1    2    3    4    5    6    7       8        9       10     11  \\\n",
       "0  0.0  1.0  0.0  0.0  0.0  0.0  0.0  1.0  2018.0   9995.0  30007.0  150.0   \n",
       "1  0.0  0.0  1.0  0.0  0.0  0.0  0.0  1.0  2018.0  17785.0  13734.0  145.0   \n",
       "2  1.0  0.0  0.0  0.0  0.0  0.0  0.0  1.0  2007.0   2799.0  50403.0  260.0   \n",
       "3  1.0  0.0  0.0  0.0  0.0  0.0  0.0  1.0  2018.0  19100.0  42209.0  145.0   \n",
       "4  0.0  1.0  0.0  0.0  0.0  0.0  0.0  1.0  2017.0   9999.0  27005.0  125.0   \n",
       "\n",
       "     12   13 Manufacturer  \n",
       "0  57.7  1.0       hyundi  \n",
       "1  42.8  2.0        skoda  \n",
       "2  37.1  1.6         ford  \n",
       "3  42.2  2.0         Audi  \n",
       "4  51.4  1.4     vauxhall  "
      ],
      "text/html": [
       "<div>\n",
       "<style scoped>\n",
       "    .dataframe tbody tr th:only-of-type {\n",
       "        vertical-align: middle;\n",
       "    }\n",
       "\n",
       "    .dataframe tbody tr th {\n",
       "        vertical-align: top;\n",
       "    }\n",
       "\n",
       "    .dataframe thead th {\n",
       "        text-align: right;\n",
       "    }\n",
       "</style>\n",
       "<table border=\"1\" class=\"dataframe\">\n",
       "  <thead>\n",
       "    <tr style=\"text-align: right;\">\n",
       "      <th></th>\n",
       "      <th>0</th>\n",
       "      <th>1</th>\n",
       "      <th>2</th>\n",
       "      <th>3</th>\n",
       "      <th>4</th>\n",
       "      <th>5</th>\n",
       "      <th>6</th>\n",
       "      <th>7</th>\n",
       "      <th>8</th>\n",
       "      <th>9</th>\n",
       "      <th>10</th>\n",
       "      <th>11</th>\n",
       "      <th>12</th>\n",
       "      <th>13</th>\n",
       "      <th>Manufacturer</th>\n",
       "    </tr>\n",
       "  </thead>\n",
       "  <tbody>\n",
       "    <tr>\n",
       "      <th>0</th>\n",
       "      <td>0.0</td>\n",
       "      <td>1.0</td>\n",
       "      <td>0.0</td>\n",
       "      <td>0.0</td>\n",
       "      <td>0.0</td>\n",
       "      <td>0.0</td>\n",
       "      <td>0.0</td>\n",
       "      <td>1.0</td>\n",
       "      <td>2018.0</td>\n",
       "      <td>9995.0</td>\n",
       "      <td>30007.0</td>\n",
       "      <td>150.0</td>\n",
       "      <td>57.7</td>\n",
       "      <td>1.0</td>\n",
       "      <td>hyundi</td>\n",
       "    </tr>\n",
       "    <tr>\n",
       "      <th>1</th>\n",
       "      <td>0.0</td>\n",
       "      <td>0.0</td>\n",
       "      <td>1.0</td>\n",
       "      <td>0.0</td>\n",
       "      <td>0.0</td>\n",
       "      <td>0.0</td>\n",
       "      <td>0.0</td>\n",
       "      <td>1.0</td>\n",
       "      <td>2018.0</td>\n",
       "      <td>17785.0</td>\n",
       "      <td>13734.0</td>\n",
       "      <td>145.0</td>\n",
       "      <td>42.8</td>\n",
       "      <td>2.0</td>\n",
       "      <td>skoda</td>\n",
       "    </tr>\n",
       "    <tr>\n",
       "      <th>2</th>\n",
       "      <td>1.0</td>\n",
       "      <td>0.0</td>\n",
       "      <td>0.0</td>\n",
       "      <td>0.0</td>\n",
       "      <td>0.0</td>\n",
       "      <td>0.0</td>\n",
       "      <td>0.0</td>\n",
       "      <td>1.0</td>\n",
       "      <td>2007.0</td>\n",
       "      <td>2799.0</td>\n",
       "      <td>50403.0</td>\n",
       "      <td>260.0</td>\n",
       "      <td>37.1</td>\n",
       "      <td>1.6</td>\n",
       "      <td>ford</td>\n",
       "    </tr>\n",
       "    <tr>\n",
       "      <th>3</th>\n",
       "      <td>1.0</td>\n",
       "      <td>0.0</td>\n",
       "      <td>0.0</td>\n",
       "      <td>0.0</td>\n",
       "      <td>0.0</td>\n",
       "      <td>0.0</td>\n",
       "      <td>0.0</td>\n",
       "      <td>1.0</td>\n",
       "      <td>2018.0</td>\n",
       "      <td>19100.0</td>\n",
       "      <td>42209.0</td>\n",
       "      <td>145.0</td>\n",
       "      <td>42.2</td>\n",
       "      <td>2.0</td>\n",
       "      <td>Audi</td>\n",
       "    </tr>\n",
       "    <tr>\n",
       "      <th>4</th>\n",
       "      <td>0.0</td>\n",
       "      <td>1.0</td>\n",
       "      <td>0.0</td>\n",
       "      <td>0.0</td>\n",
       "      <td>0.0</td>\n",
       "      <td>0.0</td>\n",
       "      <td>0.0</td>\n",
       "      <td>1.0</td>\n",
       "      <td>2017.0</td>\n",
       "      <td>9999.0</td>\n",
       "      <td>27005.0</td>\n",
       "      <td>125.0</td>\n",
       "      <td>51.4</td>\n",
       "      <td>1.4</td>\n",
       "      <td>vauxhall</td>\n",
       "    </tr>\n",
       "  </tbody>\n",
       "</table>\n",
       "</div>"
      ]
     },
     "execution_count": 38,
     "metadata": {},
     "output_type": "execute_result"
    }
   ],
   "execution_count": 38
  },
  {
   "metadata": {
    "ExecuteTime": {
     "end_time": "2024-05-08T08:40:41.677877Z",
     "start_time": "2024-05-08T08:40:41.655358Z"
    }
   },
   "cell_type": "code",
   "source": "preprocessed_df.tail()",
   "outputs": [
    {
     "data": {
      "text/plain": [
       "         0    1    2    3    4    5    6    7       8        9       10  \\\n",
       "24423  0.0  1.0  0.0  1.0  0.0  0.0  0.0  0.0  2014.0  12690.0  74074.0   \n",
       "24424  1.0  0.0  0.0  1.0  0.0  0.0  0.0  0.0  2018.0  29500.0   9648.0   \n",
       "24425  0.0  1.0  0.0  0.0  0.0  0.0  0.0  1.0  2015.0   8991.0  31048.0   \n",
       "24426  0.0  1.0  0.0  0.0  0.0  0.0  0.0  1.0  2019.0  12289.0  12049.0   \n",
       "24427  0.0  1.0  0.0  0.0  0.0  0.0  0.0  1.0  2020.0  25990.0   1500.0   \n",
       "\n",
       "          11    12   13 Manufacturer  \n",
       "24423  145.0  55.4  2.0         Audi  \n",
       "24424  145.0  39.2  2.2       hyundi  \n",
       "24425  160.0  44.8  1.4     vauxhall  \n",
       "24426  145.0  48.7  1.0   volkswagen  \n",
       "24427  145.0  43.5  1.5         Audi  "
      ],
      "text/html": [
       "<div>\n",
       "<style scoped>\n",
       "    .dataframe tbody tr th:only-of-type {\n",
       "        vertical-align: middle;\n",
       "    }\n",
       "\n",
       "    .dataframe tbody tr th {\n",
       "        vertical-align: top;\n",
       "    }\n",
       "\n",
       "    .dataframe thead th {\n",
       "        text-align: right;\n",
       "    }\n",
       "</style>\n",
       "<table border=\"1\" class=\"dataframe\">\n",
       "  <thead>\n",
       "    <tr style=\"text-align: right;\">\n",
       "      <th></th>\n",
       "      <th>0</th>\n",
       "      <th>1</th>\n",
       "      <th>2</th>\n",
       "      <th>3</th>\n",
       "      <th>4</th>\n",
       "      <th>5</th>\n",
       "      <th>6</th>\n",
       "      <th>7</th>\n",
       "      <th>8</th>\n",
       "      <th>9</th>\n",
       "      <th>10</th>\n",
       "      <th>11</th>\n",
       "      <th>12</th>\n",
       "      <th>13</th>\n",
       "      <th>Manufacturer</th>\n",
       "    </tr>\n",
       "  </thead>\n",
       "  <tbody>\n",
       "    <tr>\n",
       "      <th>24423</th>\n",
       "      <td>0.0</td>\n",
       "      <td>1.0</td>\n",
       "      <td>0.0</td>\n",
       "      <td>1.0</td>\n",
       "      <td>0.0</td>\n",
       "      <td>0.0</td>\n",
       "      <td>0.0</td>\n",
       "      <td>0.0</td>\n",
       "      <td>2014.0</td>\n",
       "      <td>12690.0</td>\n",
       "      <td>74074.0</td>\n",
       "      <td>145.0</td>\n",
       "      <td>55.4</td>\n",
       "      <td>2.0</td>\n",
       "      <td>Audi</td>\n",
       "    </tr>\n",
       "    <tr>\n",
       "      <th>24424</th>\n",
       "      <td>1.0</td>\n",
       "      <td>0.0</td>\n",
       "      <td>0.0</td>\n",
       "      <td>1.0</td>\n",
       "      <td>0.0</td>\n",
       "      <td>0.0</td>\n",
       "      <td>0.0</td>\n",
       "      <td>0.0</td>\n",
       "      <td>2018.0</td>\n",
       "      <td>29500.0</td>\n",
       "      <td>9648.0</td>\n",
       "      <td>145.0</td>\n",
       "      <td>39.2</td>\n",
       "      <td>2.2</td>\n",
       "      <td>hyundi</td>\n",
       "    </tr>\n",
       "    <tr>\n",
       "      <th>24425</th>\n",
       "      <td>0.0</td>\n",
       "      <td>1.0</td>\n",
       "      <td>0.0</td>\n",
       "      <td>0.0</td>\n",
       "      <td>0.0</td>\n",
       "      <td>0.0</td>\n",
       "      <td>0.0</td>\n",
       "      <td>1.0</td>\n",
       "      <td>2015.0</td>\n",
       "      <td>8991.0</td>\n",
       "      <td>31048.0</td>\n",
       "      <td>160.0</td>\n",
       "      <td>44.8</td>\n",
       "      <td>1.4</td>\n",
       "      <td>vauxhall</td>\n",
       "    </tr>\n",
       "    <tr>\n",
       "      <th>24426</th>\n",
       "      <td>0.0</td>\n",
       "      <td>1.0</td>\n",
       "      <td>0.0</td>\n",
       "      <td>0.0</td>\n",
       "      <td>0.0</td>\n",
       "      <td>0.0</td>\n",
       "      <td>0.0</td>\n",
       "      <td>1.0</td>\n",
       "      <td>2019.0</td>\n",
       "      <td>12289.0</td>\n",
       "      <td>12049.0</td>\n",
       "      <td>145.0</td>\n",
       "      <td>48.7</td>\n",
       "      <td>1.0</td>\n",
       "      <td>volkswagen</td>\n",
       "    </tr>\n",
       "    <tr>\n",
       "      <th>24427</th>\n",
       "      <td>0.0</td>\n",
       "      <td>1.0</td>\n",
       "      <td>0.0</td>\n",
       "      <td>0.0</td>\n",
       "      <td>0.0</td>\n",
       "      <td>0.0</td>\n",
       "      <td>0.0</td>\n",
       "      <td>1.0</td>\n",
       "      <td>2020.0</td>\n",
       "      <td>25990.0</td>\n",
       "      <td>1500.0</td>\n",
       "      <td>145.0</td>\n",
       "      <td>43.5</td>\n",
       "      <td>1.5</td>\n",
       "      <td>Audi</td>\n",
       "    </tr>\n",
       "  </tbody>\n",
       "</table>\n",
       "</div>"
      ]
     },
     "execution_count": 39,
     "metadata": {},
     "output_type": "execute_result"
    }
   ],
   "execution_count": 39
  },
  {
   "metadata": {
    "ExecuteTime": {
     "end_time": "2024-05-08T08:40:43.947891Z",
     "start_time": "2024-05-08T08:40:43.935135Z"
    }
   },
   "cell_type": "code",
   "source": "preprocessed_df.info()",
   "outputs": [
    {
     "name": "stdout",
     "output_type": "stream",
     "text": [
      "<class 'pandas.core.frame.DataFrame'>\n",
      "RangeIndex: 24428 entries, 0 to 24427\n",
      "Data columns (total 15 columns):\n",
      " #   Column        Non-Null Count  Dtype   \n",
      "---  ------        --------------  -----   \n",
      " 0   0             24428 non-null  float64 \n",
      " 1   1             24428 non-null  float64 \n",
      " 2   2             24428 non-null  float64 \n",
      " 3   3             24428 non-null  float64 \n",
      " 4   4             24428 non-null  float64 \n",
      " 5   5             24428 non-null  float64 \n",
      " 6   6             24428 non-null  float64 \n",
      " 7   7             24428 non-null  float64 \n",
      " 8   8             24428 non-null  float64 \n",
      " 9   9             24428 non-null  float64 \n",
      " 10  10            24428 non-null  float64 \n",
      " 11  11            24428 non-null  float64 \n",
      " 12  12            24428 non-null  float64 \n",
      " 13  13            24428 non-null  float64 \n",
      " 14  Manufacturer  24428 non-null  category\n",
      "dtypes: category(1), float64(14)\n",
      "memory usage: 2.6 MB\n"
     ]
    }
   ],
   "execution_count": 40
  },
  {
   "metadata": {
    "ExecuteTime": {
     "end_time": "2024-05-08T08:44:42.012635Z",
     "start_time": "2024-05-08T08:44:41.987676Z"
    }
   },
   "cell_type": "code",
   "source": [
    "preprocessed_df = df.copy()\n",
    "# Define columns to use and categorical\n",
    "categorical_cols = [\"transmission\", \"fuelType\"]\n",
    "test_df = preprocessed_df[categorical_cols]\n",
    "\n",
    "for col in categorical_cols:\n",
    "    new_column_data = pd.get_dummies(test_df[col], prefix=col)\n",
    "    test_df = pd.concat([test_df, new_column_data], axis=1)\n",
    "\n",
    "test_df  \n",
    " "
   ],
   "outputs": [
    {
     "data": {
      "text/plain": [
       "      transmission fuelType  transmission_Automatic  transmission_Manual  \\\n",
       "0           Manual   Petrol                   False                 True   \n",
       "1        Semi-Auto   Petrol                   False                False   \n",
       "2        Automatic   Petrol                    True                False   \n",
       "3        Automatic   Petrol                    True                False   \n",
       "4           Manual   Petrol                   False                 True   \n",
       "...            ...      ...                     ...                  ...   \n",
       "24423       Manual   Diesel                   False                 True   \n",
       "24424    Automatic   Diesel                    True                False   \n",
       "24425       Manual   Petrol                   False                 True   \n",
       "24426       Manual   Petrol                   False                 True   \n",
       "24427       Manual   Petrol                   False                 True   \n",
       "\n",
       "       transmission_Other  transmission_Semi-Auto  fuelType_Diesel  \\\n",
       "0                   False                   False            False   \n",
       "1                   False                    True            False   \n",
       "2                   False                   False            False   \n",
       "3                   False                   False            False   \n",
       "4                   False                   False            False   \n",
       "...                   ...                     ...              ...   \n",
       "24423               False                   False             True   \n",
       "24424               False                   False             True   \n",
       "24425               False                   False            False   \n",
       "24426               False                   False            False   \n",
       "24427               False                   False            False   \n",
       "\n",
       "       fuelType_Electric  fuelType_Hybrid  fuelType_Other  fuelType_Petrol  \n",
       "0                  False            False           False             True  \n",
       "1                  False            False           False             True  \n",
       "2                  False            False           False             True  \n",
       "3                  False            False           False             True  \n",
       "4                  False            False           False             True  \n",
       "...                  ...              ...             ...              ...  \n",
       "24423              False            False           False            False  \n",
       "24424              False            False           False            False  \n",
       "24425              False            False           False             True  \n",
       "24426              False            False           False             True  \n",
       "24427              False            False           False             True  \n",
       "\n",
       "[24428 rows x 11 columns]"
      ],
      "text/html": [
       "<div>\n",
       "<style scoped>\n",
       "    .dataframe tbody tr th:only-of-type {\n",
       "        vertical-align: middle;\n",
       "    }\n",
       "\n",
       "    .dataframe tbody tr th {\n",
       "        vertical-align: top;\n",
       "    }\n",
       "\n",
       "    .dataframe thead th {\n",
       "        text-align: right;\n",
       "    }\n",
       "</style>\n",
       "<table border=\"1\" class=\"dataframe\">\n",
       "  <thead>\n",
       "    <tr style=\"text-align: right;\">\n",
       "      <th></th>\n",
       "      <th>transmission</th>\n",
       "      <th>fuelType</th>\n",
       "      <th>transmission_Automatic</th>\n",
       "      <th>transmission_Manual</th>\n",
       "      <th>transmission_Other</th>\n",
       "      <th>transmission_Semi-Auto</th>\n",
       "      <th>fuelType_Diesel</th>\n",
       "      <th>fuelType_Electric</th>\n",
       "      <th>fuelType_Hybrid</th>\n",
       "      <th>fuelType_Other</th>\n",
       "      <th>fuelType_Petrol</th>\n",
       "    </tr>\n",
       "  </thead>\n",
       "  <tbody>\n",
       "    <tr>\n",
       "      <th>0</th>\n",
       "      <td>Manual</td>\n",
       "      <td>Petrol</td>\n",
       "      <td>False</td>\n",
       "      <td>True</td>\n",
       "      <td>False</td>\n",
       "      <td>False</td>\n",
       "      <td>False</td>\n",
       "      <td>False</td>\n",
       "      <td>False</td>\n",
       "      <td>False</td>\n",
       "      <td>True</td>\n",
       "    </tr>\n",
       "    <tr>\n",
       "      <th>1</th>\n",
       "      <td>Semi-Auto</td>\n",
       "      <td>Petrol</td>\n",
       "      <td>False</td>\n",
       "      <td>False</td>\n",
       "      <td>False</td>\n",
       "      <td>True</td>\n",
       "      <td>False</td>\n",
       "      <td>False</td>\n",
       "      <td>False</td>\n",
       "      <td>False</td>\n",
       "      <td>True</td>\n",
       "    </tr>\n",
       "    <tr>\n",
       "      <th>2</th>\n",
       "      <td>Automatic</td>\n",
       "      <td>Petrol</td>\n",
       "      <td>True</td>\n",
       "      <td>False</td>\n",
       "      <td>False</td>\n",
       "      <td>False</td>\n",
       "      <td>False</td>\n",
       "      <td>False</td>\n",
       "      <td>False</td>\n",
       "      <td>False</td>\n",
       "      <td>True</td>\n",
       "    </tr>\n",
       "    <tr>\n",
       "      <th>3</th>\n",
       "      <td>Automatic</td>\n",
       "      <td>Petrol</td>\n",
       "      <td>True</td>\n",
       "      <td>False</td>\n",
       "      <td>False</td>\n",
       "      <td>False</td>\n",
       "      <td>False</td>\n",
       "      <td>False</td>\n",
       "      <td>False</td>\n",
       "      <td>False</td>\n",
       "      <td>True</td>\n",
       "    </tr>\n",
       "    <tr>\n",
       "      <th>4</th>\n",
       "      <td>Manual</td>\n",
       "      <td>Petrol</td>\n",
       "      <td>False</td>\n",
       "      <td>True</td>\n",
       "      <td>False</td>\n",
       "      <td>False</td>\n",
       "      <td>False</td>\n",
       "      <td>False</td>\n",
       "      <td>False</td>\n",
       "      <td>False</td>\n",
       "      <td>True</td>\n",
       "    </tr>\n",
       "    <tr>\n",
       "      <th>...</th>\n",
       "      <td>...</td>\n",
       "      <td>...</td>\n",
       "      <td>...</td>\n",
       "      <td>...</td>\n",
       "      <td>...</td>\n",
       "      <td>...</td>\n",
       "      <td>...</td>\n",
       "      <td>...</td>\n",
       "      <td>...</td>\n",
       "      <td>...</td>\n",
       "      <td>...</td>\n",
       "    </tr>\n",
       "    <tr>\n",
       "      <th>24423</th>\n",
       "      <td>Manual</td>\n",
       "      <td>Diesel</td>\n",
       "      <td>False</td>\n",
       "      <td>True</td>\n",
       "      <td>False</td>\n",
       "      <td>False</td>\n",
       "      <td>True</td>\n",
       "      <td>False</td>\n",
       "      <td>False</td>\n",
       "      <td>False</td>\n",
       "      <td>False</td>\n",
       "    </tr>\n",
       "    <tr>\n",
       "      <th>24424</th>\n",
       "      <td>Automatic</td>\n",
       "      <td>Diesel</td>\n",
       "      <td>True</td>\n",
       "      <td>False</td>\n",
       "      <td>False</td>\n",
       "      <td>False</td>\n",
       "      <td>True</td>\n",
       "      <td>False</td>\n",
       "      <td>False</td>\n",
       "      <td>False</td>\n",
       "      <td>False</td>\n",
       "    </tr>\n",
       "    <tr>\n",
       "      <th>24425</th>\n",
       "      <td>Manual</td>\n",
       "      <td>Petrol</td>\n",
       "      <td>False</td>\n",
       "      <td>True</td>\n",
       "      <td>False</td>\n",
       "      <td>False</td>\n",
       "      <td>False</td>\n",
       "      <td>False</td>\n",
       "      <td>False</td>\n",
       "      <td>False</td>\n",
       "      <td>True</td>\n",
       "    </tr>\n",
       "    <tr>\n",
       "      <th>24426</th>\n",
       "      <td>Manual</td>\n",
       "      <td>Petrol</td>\n",
       "      <td>False</td>\n",
       "      <td>True</td>\n",
       "      <td>False</td>\n",
       "      <td>False</td>\n",
       "      <td>False</td>\n",
       "      <td>False</td>\n",
       "      <td>False</td>\n",
       "      <td>False</td>\n",
       "      <td>True</td>\n",
       "    </tr>\n",
       "    <tr>\n",
       "      <th>24427</th>\n",
       "      <td>Manual</td>\n",
       "      <td>Petrol</td>\n",
       "      <td>False</td>\n",
       "      <td>True</td>\n",
       "      <td>False</td>\n",
       "      <td>False</td>\n",
       "      <td>False</td>\n",
       "      <td>False</td>\n",
       "      <td>False</td>\n",
       "      <td>False</td>\n",
       "      <td>True</td>\n",
       "    </tr>\n",
       "  </tbody>\n",
       "</table>\n",
       "<p>24428 rows × 11 columns</p>\n",
       "</div>"
      ]
     },
     "execution_count": 44,
     "metadata": {},
     "output_type": "execute_result"
    }
   ],
   "execution_count": 44
  },
  {
   "metadata": {},
   "cell_type": "code",
   "outputs": [],
   "execution_count": null,
   "source": [
    "def preprocessing_1(df):\n",
    "  preprocessed_df = df.copy()\n",
    "\n",
    "  # Define columns to use and categorical\n",
    "  categorical_cols = [\"transmission\", \"fuelType\"]\n",
    "  columns_to_use = [\"year\", \"price\", \"mileage\", \"tax\", \"mpg\", \"engineSize\"] + categorical_cols\n",
    "\n",
    "  # Select columns to use\n",
    "  preprocessed_df = preprocessed_df[columns_to_use]\n",
    "  \n",
    "  # One-hot encoding for categorical columns\n",
    "  for old_col in categorical_cols:\n",
    "      # One-hot encoding for that column \n",
    "      one_hot_encoding_df = pd.get_dummies(preprocessed_df[old_col])\n",
    "      \n",
    "      # Append the new columns to the preprocessed dataframe\n",
    "      for new_col in one_hot_encoding_df.columns:\n",
    "          preprocessed_df[new_col] = one_hot_encoding_df[new_col] * 1 # Convert boolean to int\n",
    "      \n",
    "      # Remove the old categorical column\n",
    "      del preprocessed_df[old_col]\n",
    "          \n",
    "  # Label column at the end\n",
    "  preprocessed_df[LABEL_COL_NAME] = df[LABEL_COL_NAME]\n",
    "\n",
    "  return preprocessed_df\n",
    "\n",
    "preprocessed_df = preprocessing_1(df)\n",
    "train_dataset, test_dataset, input_size, num_classes, label_encoder = df_to_dataset(preprocessed_df)\n",
    "      "
   ]
  },
  {
   "metadata": {
    "ExecuteTime": {
     "end_time": "2024-05-08T08:52:34.540698Z",
     "start_time": "2024-05-08T08:52:34.515464Z"
    }
   },
   "cell_type": "code",
   "source": "train_dataset[0]",
   "outputs": [
    {
     "data": {
      "text/plain": [
       "(tensor([2.0190e+03, 1.1495e+04, 5.4730e+03, 1.4500e+02, 4.7900e+01, 1.5000e+00,\n",
       "         0.0000e+00, 1.0000e+00, 0.0000e+00, 0.0000e+00, 0.0000e+00, 0.0000e+00,\n",
       "         0.0000e+00, 1.0000e+00]),\n",
       " tensor(6))"
      ]
     },
     "execution_count": 46,
     "metadata": {},
     "output_type": "execute_result"
    }
   ],
   "execution_count": 46
  },
  {
   "metadata": {
    "ExecuteTime": {
     "end_time": "2024-05-08T08:53:29.030355Z",
     "start_time": "2024-05-08T08:53:29.024845Z"
    }
   },
   "cell_type": "code",
   "source": "label_encoder.classes_",
   "outputs": [
    {
     "data": {
      "text/plain": [
       "array(['Audi', 'BMW', 'ford', 'hyundi', 'merc', 'skoda', 'toyota',\n",
       "       'vauxhall', 'volkswagen'], dtype=object)"
      ]
     },
     "execution_count": 47,
     "metadata": {},
     "output_type": "execute_result"
    }
   ],
   "execution_count": 47
  },
  {
   "metadata": {},
   "cell_type": "code",
   "outputs": [],
   "execution_count": null,
   "source": ""
  },
  {
   "cell_type": "markdown",
   "source": [
    "## Model"
   ],
   "metadata": {
    "id": "nxtTGLqbFZgB"
   }
  },
  {
   "cell_type": "code",
   "source": [
    "class Model_0(nn.Module):\n",
    "    def __init__(self, input_size, num_classes):\n",
    "        super(Model_0, self).__init__()\n",
    "        self.layers = nn.Sequential(\n",
    "            nn.Linear(input_size, num_classes), # Input layer to output layer, tantes neurones com classes\n",
    "            nn.Softmax(dim=1) # Mandatory activation to normalize probabilities between 0 and 1\n",
    "        )\n",
    "\n",
    "    def forward(self, x):\n",
    "        return self.layers(x)\n",
    "\n",
    "model = create_model(Model_0, input_size, num_classes)"
   ],
   "metadata": {
    "id": "lMfKqYDD0h9t",
    "ExecuteTime": {
     "end_time": "2024-05-08T09:02:06.563880Z",
     "start_time": "2024-05-08T09:02:06.550953Z"
    }
   },
   "outputs": [
    {
     "name": "stdout",
     "output_type": "stream",
     "text": [
      "The model has 540 parameters\n"
     ]
    }
   ],
   "execution_count": 48
  },
  {
   "cell_type": "markdown",
   "source": [
    "## Training"
   ],
   "metadata": {
    "id": "lPFEpDkJFbln"
   }
  },
  {
   "cell_type": "code",
   "source": [
    "%%time\n",
    "losses = train(model, train_dataset, num_epochs=5, lr=0.001)"
   ],
   "metadata": {
    "id": "hfENvrBr0h9u"
   },
   "execution_count": 49,
   "outputs": [
    {
     "name": "stdout",
     "output_type": "stream",
     "text": [
      "Epoch [5/5] | Mean epoch loss: 2.2656\n",
      "CPU times: user 16.3 s, sys: 459 ms, total: 16.7 s\n",
      "Wall time: 6.27 s\n"
     ]
    }
   ]
  },
  {
   "cell_type": "markdown",
   "source": [
    "## Evaluation"
   ],
   "metadata": {
    "id": "cVEQFf7xGypd"
   }
  },
  {
   "cell_type": "code",
   "source": [
    "train_accuracy, _, _ = evaluate(model, train_dataset)\n",
    "test_accuracy, test_all_targets, test_all_predicted = evaluate(model, test_dataset)\n",
    "\n",
    "print(f'Train accuracy: {train_accuracy*100:.2f}%')\n",
    "print(f'Test accuracy: {test_accuracy*100:.2f}%')\n",
    "\n",
    "plot_confusion_matrix(test_all_targets, test_all_predicted, label_encoder)"
   ],
   "metadata": {
    "id": "nDHtcS7tGfBf",
    "ExecuteTime": {
     "end_time": "2024-05-08T09:02:27.964837Z",
     "start_time": "2024-05-08T09:02:27.098153Z"
    }
   },
   "outputs": [
    {
     "name": "stdout",
     "output_type": "stream",
     "text": [
      "Train accuracy: 10.87%\n",
      "Test accuracy: 9.89%\n"
     ]
    },
    {
     "data": {
      "text/plain": [
       "<Figure size 1000x800 with 2 Axes>"
      ],
      "image/png": "[encoded data removed]"
     },
     "metadata": {},
     "output_type": "display_data"
    }
   ],
   "execution_count": 50
  },
  {
   "cell_type": "markdown",
   "source": [
    "# Student: Experiments\n",
    "<a name=\"experiments\"></a>\n",
    "\n",
    "In this section, the student will have to create two or three consequent solutions for the **Manufacturer classification task**. Each solution must contain the following components:\n",
    "* **Idea**: What is the target/reasoning of the solution (e.g., I observed that the previous model had a very reduced size and I want to explore the effects of using a bigger model).\n",
    "* **Preprocessing**: Prepare the desired features of your dataframe for the neural network. To this end, students can <font color='orange'>**only use Pandas' functions**</font>.\n",
    "* **Model**: Definition of the Multi-Layer Perceptron model, **only** using [Linear](https://pytorch.org/docs/stable/generated/torch.nn.Linear.html) layers and\n",
    " [activations from this list](https://pytorch.org/docs/stable/nn.html#non-linear-activations-weighted-sum-nonlinearity).\n",
    "* **Training**: Perform the learning process trying to maximize the results.\n",
    "* **Evaluation**: Measuring the performance of the trained model.\n",
    "* **Results analysis**: Examination of the solution, focusing in:\n",
    "  * Training\n",
    "  * Accuracy\n",
    "  * Confusion matrix\n",
    "  * Training time\n",
    "\n",
    "It can be seen that these are the same as for the baseline solution, but adding the **Idea** and **Results analysis** components. An extended analysis of the baseline results will also be requested.\n",
    "\n",
    "None of the solutions has to be the best/ideal, but all of them must be better than the [baseline](#baseline). The idea is to present consequent solutions, being each one the coherent next step of the previous one (the previous step of [Solution 1A](#solution_1a) is the [baseline](#baseline)). This does not imply that each solution has to improve the results of the previous one, but to modify at least one of the components (i.e., preprocessing or model) in a significant and coherent way.\n",
    "\n",
    "In particular, we aim for the first two solutions ([Solution 1A](#solution_1a) and [Solution 1B](#solution_1b)) to emphasize preprocessing. Specifically, both will utilize the same basic MLP model (better than that of the [baseline](#baseline)) but experiment with two distinct preprocessing approaches. An explicit comparison of these preprocessing methods and their respective outcomes is necessary. For [Solution 2](#solution_2), the preprocessing method from one of the earlier solutions will be employed. The goal of this final solution is to enhance results by improving/refining the MLP model."
   ],
   "metadata": {
    "id": "WEdi-JcS0h9s"
   }
  },
  {
   "cell_type": "markdown",
   "source": [
    "## Analysis of baseline\n",
    "Provide a comprehensive analysis of the [baseline solution](#baseline). Apart from the results (i.e., **training, accuracy, confusion matrix and runtime**), a review of the solution design (i.e., **preprocessing and model**) is also required. It is not necessary to explain or analysis the code, but the choices. For instace, which features are used and how."
   ],
   "metadata": {
    "id": "p1FFO8IUJJud"
   }
  },
  {
   "cell_type": "markdown",
   "source": [
    "TODO: YOUR ANALYSIS HERE"
   ],
   "metadata": {
    "id": "MZ9k9S4uJMRy"
   }
  },
  {
   "cell_type": "markdown",
   "source": [
    "## Common functions\n",
    "For avoiding code repetition along all the solutions, you can use this subsection for your common functions and/or classes."
   ],
   "metadata": {
    "id": "5iMQfqcc0h9t"
   }
  },
  {
   "cell_type": "code",
   "source": [
    "# TODO: YOUR CODE HERE"
   ],
   "metadata": {
    "id": "uA7dXeUIxyh2"
   },
   "execution_count": null,
   "outputs": []
  },
  {
   "metadata": {},
   "cell_type": "markdown",
   "source": [
    "## Solution 1A: First preprocessing\n",
    "<a name=\"solution_1a\"></a>\n",
    "\n",
    "Subsequent of [Baseline](#baseline), it implements a basic MLP (better than the provided at the baseline) and a first option for the preprocessing step."
   ]
  },
  {
   "metadata": {
    "ExecuteTime": {
     "end_time": "2024-05-08T09:48:10.948689Z",
     "start_time": "2024-05-08T09:48:10.758075Z"
    }
   },
   "cell_type": "code",
   "source": "df = data_loading(\"CarsData.csv\")",
   "outputs": [],
   "execution_count": 83
  },
  {
   "metadata": {},
   "cell_type": "code",
   "outputs": [],
   "execution_count": null,
   "source": [
    "preprocessed_df = df.copy()\n",
    "# Define columns to use and categorical\n",
    "categorical_cols = [\"transmission\", \"fuelType\"]\n",
    "test_df = preprocessed_df[categorical_cols]\n",
    "\n",
    "for col in categorical_cols:\n",
    "    new_column_data = pd.get_dummies(test_df[col], prefix=col)\n",
    "    test_df = pd.concat([test_df, new_column_data], axis=1)\n",
    "\n",
    "test_df"
   ]
  },
  {
   "metadata": {
    "ExecuteTime": {
     "end_time": "2024-05-08T09:45:19.580352Z",
     "start_time": "2024-05-08T09:45:19.549938Z"
    }
   },
   "cell_type": "code",
   "source": [
    "def preprocessing_1(df):\n",
    "    preprocessed_df = df.copy()\n",
    "\n",
    "    # Define columns to use and categorical\n",
    "    categorical_cols = [\"transmission\", \"fuelType\"] \n",
    "    numerical_cols = [\"year\", \"price\", \"mileage\", \"tax\", \"mpg\", \"engineSize\"]\n",
    "    columns_to_use = numerical_cols + categorical_cols\n",
    "\n",
    "    # Select columns to use\n",
    "    preprocessed_df = preprocessed_df[columns_to_use]\n",
    "\n",
    "    # One-hot encoding for categorical columns\n",
    "    for old_col in categorical_cols:\n",
    "        # One-hot encoding for that column \n",
    "        one_hot_encoding_df = pd.get_dummies(preprocessed_df[old_col])\n",
    "\n",
    "        # Append the new columns to the preprocessed dataframe\n",
    "        for new_col in one_hot_encoding_df.columns:\n",
    "            preprocessed_df[new_col] = one_hot_encoding_df[new_col] * 1  # Convert boolean to int\n",
    "\n",
    "        # Remove the old categorical column\n",
    "        del preprocessed_df[old_col]\n",
    "\n",
    "    \n",
    "    # Normalize numerical columns\n",
    "    for col in numerical_cols:\n",
    "        # Min-max normalization o standard deviation normalization depen de l'analisi anterior\n",
    "        preprocessed_df[col] = ((preprocessed_df[col] - preprocessed_df[col].min()) / (preprocessed_df[col].max() - preprocessed_df[col].min()))\n",
    "    \n",
    "    # Label column at the end\n",
    "    preprocessed_df[LABEL_COL_NAME] = df[LABEL_COL_NAME]\n",
    "\n",
    "    return preprocessed_df\n",
    "\n",
    "\n",
    "preprocessed_df1A = preprocessing_1(df)\n",
    "train_dataset1A, test_dataset1A, input_size1A, num_classes1A, label_encoder1A = df_to_dataset(preprocessed_df1A)"
   ],
   "outputs": [],
   "execution_count": 74
  },
  {
   "metadata": {
    "ExecuteTime": {
     "end_time": "2024-05-08T09:45:26.846395Z",
     "start_time": "2024-05-08T09:45:26.841050Z"
    }
   },
   "cell_type": "code",
   "source": "train_dataset1A[0]",
   "outputs": [
    {
     "data": {
      "text/plain": [
       "(tensor([0.9545, 0.0738, 0.0196, 0.2500, 0.0996, 0.2419, 0.0000, 1.0000, 0.0000,\n",
       "         0.0000, 0.0000, 0.0000, 0.0000, 1.0000]),\n",
       " tensor(6))"
      ]
     },
     "execution_count": 76,
     "metadata": {},
     "output_type": "execute_result"
    }
   ],
   "execution_count": 76
  },
  {
   "metadata": {
    "ExecuteTime": {
     "end_time": "2024-05-08T09:45:34.503325Z",
     "start_time": "2024-05-08T09:45:34.498418Z"
    }
   },
   "cell_type": "code",
   "source": "label_encoder1A.classes_",
   "outputs": [
    {
     "data": {
      "text/plain": [
       "array(['Audi', 'BMW', 'ford', 'hyundi', 'merc', 'skoda', 'toyota',\n",
       "       'vauxhall', 'volkswagen'], dtype=object)"
      ]
     },
     "execution_count": 77,
     "metadata": {},
     "output_type": "execute_result"
    }
   ],
   "execution_count": 77
  },
  {
   "metadata": {
    "ExecuteTime": {
     "end_time": "2024-05-08T09:46:02.176666Z",
     "start_time": "2024-05-08T09:46:02.169716Z"
    }
   },
   "cell_type": "code",
   "source": [
    "class Model_1A(nn.Module):\n",
    "    def __init__(self, input_size1A, num_classes1A):\n",
    "        super(Model_1A, self).__init__() \n",
    "        self.layers = nn.Sequential( # Capa per capa el que volem que faci\n",
    "            nn.Linear(input_size1A, num_classes1A), # Input layer to output layer, tantes neurones com classes\n",
    "            nn.Linear(input_size1A, num_classes1A), # input_size neurones a la capa d'entrada\n",
    "            nn.Linear(input_size1A, num_classes1A), # num_classes neurones a la capa de sortida\n",
    "          \n",
    "            nn.Softmax(dim=1) # Mandatory activation to normalize probabilities between 0 and 1\n",
    "        )\n",
    "\n",
    "    def forward(self, x):\n",
    "        return self.layers(x)\n",
    "\n",
    "model1A = create_model(Model_1A, input_size1A, num_classes1A)"
   ],
   "outputs": [
    {
     "name": "stdout",
     "output_type": "stream",
     "text": [
      "The model has 1620 parameters\n"
     ]
    }
   ],
   "execution_count": 78
  },
  {
   "metadata": {
    "ExecuteTime": {
     "end_time": "2024-05-08T09:46:04.232473Z",
     "start_time": "2024-05-08T09:46:04.214098Z"
    }
   },
   "cell_type": "code",
   "source": "preprocessed_df1A",
   "outputs": [
    {
     "data": {
      "text/plain": [
       "           year     price   mileage       tax       mpg  engineSize  \\\n",
       "0      0.909091  0.063441  0.107549  0.258621  0.120502    0.161290   \n",
       "1      0.909091  0.117482  0.049222  0.250000  0.088780    0.322581   \n",
       "2      0.409091  0.013521  0.180653  0.448276  0.076645    0.258065   \n",
       "3      0.909091  0.126604  0.151284  0.250000  0.087503    0.322581   \n",
       "4      0.863636  0.063469  0.096789  0.215517  0.107090    0.225806   \n",
       "...         ...       ...       ...       ...       ...         ...   \n",
       "24423  0.727273  0.082137  0.265496  0.250000  0.115606    0.322581   \n",
       "24424  0.909091  0.198751  0.034577  0.250000  0.081116    0.354839   \n",
       "24425  0.772727  0.056476  0.111280  0.275862  0.093038    0.225806   \n",
       "24426  0.954545  0.079355  0.043183  0.250000  0.101341    0.161290   \n",
       "24427  1.000000  0.174402  0.005373  0.250000  0.090270    0.241935   \n",
       "\n",
       "       Automatic  Manual  Other  Semi-Auto  Diesel  Electric  Hybrid  Petrol  \\\n",
       "0              0       1      0          0       0         0       0       1   \n",
       "1              0       0      0          1       0         0       0       1   \n",
       "2              1       0      0          0       0         0       0       1   \n",
       "3              1       0      0          0       0         0       0       1   \n",
       "4              0       1      0          0       0         0       0       1   \n",
       "...          ...     ...    ...        ...     ...       ...     ...     ...   \n",
       "24423          0       1      0          0       1         0       0       0   \n",
       "24424          1       0      0          0       1         0       0       0   \n",
       "24425          0       1      0          0       0         0       0       1   \n",
       "24426          0       1      0          0       0         0       0       1   \n",
       "24427          0       1      0          0       0         0       0       1   \n",
       "\n",
       "      Manufacturer  \n",
       "0           hyundi  \n",
       "1            skoda  \n",
       "2             ford  \n",
       "3             Audi  \n",
       "4         vauxhall  \n",
       "...            ...  \n",
       "24423         Audi  \n",
       "24424       hyundi  \n",
       "24425     vauxhall  \n",
       "24426   volkswagen  \n",
       "24427         Audi  \n",
       "\n",
       "[24428 rows x 15 columns]"
      ],
      "text/html": [
       "<div>\n",
       "<style scoped>\n",
       "    .dataframe tbody tr th:only-of-type {\n",
       "        vertical-align: middle;\n",
       "    }\n",
       "\n",
       "    .dataframe tbody tr th {\n",
       "        vertical-align: top;\n",
       "    }\n",
       "\n",
       "    .dataframe thead th {\n",
       "        text-align: right;\n",
       "    }\n",
       "</style>\n",
       "<table border=\"1\" class=\"dataframe\">\n",
       "  <thead>\n",
       "    <tr style=\"text-align: right;\">\n",
       "      <th></th>\n",
       "      <th>year</th>\n",
       "      <th>price</th>\n",
       "      <th>mileage</th>\n",
       "      <th>tax</th>\n",
       "      <th>mpg</th>\n",
       "      <th>engineSize</th>\n",
       "      <th>Automatic</th>\n",
       "      <th>Manual</th>\n",
       "      <th>Other</th>\n",
       "      <th>Semi-Auto</th>\n",
       "      <th>Diesel</th>\n",
       "      <th>Electric</th>\n",
       "      <th>Hybrid</th>\n",
       "      <th>Petrol</th>\n",
       "      <th>Manufacturer</th>\n",
       "    </tr>\n",
       "  </thead>\n",
       "  <tbody>\n",
       "    <tr>\n",
       "      <th>0</th>\n",
       "      <td>0.909091</td>\n",
       "      <td>0.063441</td>\n",
       "      <td>0.107549</td>\n",
       "      <td>0.258621</td>\n",
       "      <td>0.120502</td>\n",
       "      <td>0.161290</td>\n",
       "      <td>0</td>\n",
       "      <td>1</td>\n",
       "      <td>0</td>\n",
       "      <td>0</td>\n",
       "      <td>0</td>\n",
       "      <td>0</td>\n",
       "      <td>0</td>\n",
       "      <td>1</td>\n",
       "      <td>hyundi</td>\n",
       "    </tr>\n",
       "    <tr>\n",
       "      <th>1</th>\n",
       "      <td>0.909091</td>\n",
       "      <td>0.117482</td>\n",
       "      <td>0.049222</td>\n",
       "      <td>0.250000</td>\n",
       "      <td>0.088780</td>\n",
       "      <td>0.322581</td>\n",
       "      <td>0</td>\n",
       "      <td>0</td>\n",
       "      <td>0</td>\n",
       "      <td>1</td>\n",
       "      <td>0</td>\n",
       "      <td>0</td>\n",
       "      <td>0</td>\n",
       "      <td>1</td>\n",
       "      <td>skoda</td>\n",
       "    </tr>\n",
       "    <tr>\n",
       "      <th>2</th>\n",
       "      <td>0.409091</td>\n",
       "      <td>0.013521</td>\n",
       "      <td>0.180653</td>\n",
       "      <td>0.448276</td>\n",
       "      <td>0.076645</td>\n",
       "      <td>0.258065</td>\n",
       "      <td>1</td>\n",
       "      <td>0</td>\n",
       "      <td>0</td>\n",
       "      <td>0</td>\n",
       "      <td>0</td>\n",
       "      <td>0</td>\n",
       "      <td>0</td>\n",
       "      <td>1</td>\n",
       "      <td>ford</td>\n",
       "    </tr>\n",
       "    <tr>\n",
       "      <th>3</th>\n",
       "      <td>0.909091</td>\n",
       "      <td>0.126604</td>\n",
       "      <td>0.151284</td>\n",
       "      <td>0.250000</td>\n",
       "      <td>0.087503</td>\n",
       "      <td>0.322581</td>\n",
       "      <td>1</td>\n",
       "      <td>0</td>\n",
       "      <td>0</td>\n",
       "      <td>0</td>\n",
       "      <td>0</td>\n",
       "      <td>0</td>\n",
       "      <td>0</td>\n",
       "      <td>1</td>\n",
       "      <td>Audi</td>\n",
       "    </tr>\n",
       "    <tr>\n",
       "      <th>4</th>\n",
       "      <td>0.863636</td>\n",
       "      <td>0.063469</td>\n",
       "      <td>0.096789</td>\n",
       "      <td>0.215517</td>\n",
       "      <td>0.107090</td>\n",
       "      <td>0.225806</td>\n",
       "      <td>0</td>\n",
       "      <td>1</td>\n",
       "      <td>0</td>\n",
       "      <td>0</td>\n",
       "      <td>0</td>\n",
       "      <td>0</td>\n",
       "      <td>0</td>\n",
       "      <td>1</td>\n",
       "      <td>vauxhall</td>\n",
       "    </tr>\n",
       "    <tr>\n",
       "      <th>...</th>\n",
       "      <td>...</td>\n",
       "      <td>...</td>\n",
       "      <td>...</td>\n",
       "      <td>...</td>\n",
       "      <td>...</td>\n",
       "      <td>...</td>\n",
       "      <td>...</td>\n",
       "      <td>...</td>\n",
       "      <td>...</td>\n",
       "      <td>...</td>\n",
       "      <td>...</td>\n",
       "      <td>...</td>\n",
       "      <td>...</td>\n",
       "      <td>...</td>\n",
       "      <td>...</td>\n",
       "    </tr>\n",
       "    <tr>\n",
       "      <th>24423</th>\n",
       "      <td>0.727273</td>\n",
       "      <td>0.082137</td>\n",
       "      <td>0.265496</td>\n",
       "      <td>0.250000</td>\n",
       "      <td>0.115606</td>\n",
       "      <td>0.322581</td>\n",
       "      <td>0</td>\n",
       "      <td>1</td>\n",
       "      <td>0</td>\n",
       "      <td>0</td>\n",
       "      <td>1</td>\n",
       "      <td>0</td>\n",
       "      <td>0</td>\n",
       "      <td>0</td>\n",
       "      <td>Audi</td>\n",
       "    </tr>\n",
       "    <tr>\n",
       "      <th>24424</th>\n",
       "      <td>0.909091</td>\n",
       "      <td>0.198751</td>\n",
       "      <td>0.034577</td>\n",
       "      <td>0.250000</td>\n",
       "      <td>0.081116</td>\n",
       "      <td>0.354839</td>\n",
       "      <td>1</td>\n",
       "      <td>0</td>\n",
       "      <td>0</td>\n",
       "      <td>0</td>\n",
       "      <td>1</td>\n",
       "      <td>0</td>\n",
       "      <td>0</td>\n",
       "      <td>0</td>\n",
       "      <td>hyundi</td>\n",
       "    </tr>\n",
       "    <tr>\n",
       "      <th>24425</th>\n",
       "      <td>0.772727</td>\n",
       "      <td>0.056476</td>\n",
       "      <td>0.111280</td>\n",
       "      <td>0.275862</td>\n",
       "      <td>0.093038</td>\n",
       "      <td>0.225806</td>\n",
       "      <td>0</td>\n",
       "      <td>1</td>\n",
       "      <td>0</td>\n",
       "      <td>0</td>\n",
       "      <td>0</td>\n",
       "      <td>0</td>\n",
       "      <td>0</td>\n",
       "      <td>1</td>\n",
       "      <td>vauxhall</td>\n",
       "    </tr>\n",
       "    <tr>\n",
       "      <th>24426</th>\n",
       "      <td>0.954545</td>\n",
       "      <td>0.079355</td>\n",
       "      <td>0.043183</td>\n",
       "      <td>0.250000</td>\n",
       "      <td>0.101341</td>\n",
       "      <td>0.161290</td>\n",
       "      <td>0</td>\n",
       "      <td>1</td>\n",
       "      <td>0</td>\n",
       "      <td>0</td>\n",
       "      <td>0</td>\n",
       "      <td>0</td>\n",
       "      <td>0</td>\n",
       "      <td>1</td>\n",
       "      <td>volkswagen</td>\n",
       "    </tr>\n",
       "    <tr>\n",
       "      <th>24427</th>\n",
       "      <td>1.000000</td>\n",
       "      <td>0.174402</td>\n",
       "      <td>0.005373</td>\n",
       "      <td>0.250000</td>\n",
       "      <td>0.090270</td>\n",
       "      <td>0.241935</td>\n",
       "      <td>0</td>\n",
       "      <td>1</td>\n",
       "      <td>0</td>\n",
       "      <td>0</td>\n",
       "      <td>0</td>\n",
       "      <td>0</td>\n",
       "      <td>0</td>\n",
       "      <td>1</td>\n",
       "      <td>Audi</td>\n",
       "    </tr>\n",
       "  </tbody>\n",
       "</table>\n",
       "<p>24428 rows × 15 columns</p>\n",
       "</div>"
      ]
     },
     "execution_count": 79,
     "metadata": {},
     "output_type": "execute_result"
    }
   ],
   "execution_count": 79
  },
  {
   "metadata": {
    "ExecuteTime": {
     "end_time": "2024-05-08T09:46:19.000758Z",
     "start_time": "2024-05-08T09:46:18.629245Z"
    }
   },
   "cell_type": "code",
   "source": [
    "%%time\n",
    "losses1A = train(model1A, train_dataset1A, num_epochs=5, lr=0.001)"
   ],
   "outputs": [
    {
     "ename": "RuntimeError",
     "evalue": "mat1 and mat2 shapes cannot be multiplied (32x9 and 14x9)",
     "output_type": "error",
     "traceback": [
      "\u001B[0;31m---------------------------------------------------------------------------\u001B[0m",
      "\u001B[0;31mRuntimeError\u001B[0m                              Traceback (most recent call last)",
      "File \u001B[0;32m<timed exec>:1\u001B[0m\n",
      "Cell \u001B[0;32mIn[7], line 31\u001B[0m, in \u001B[0;36mtrain\u001B[0;34m(model, dataset, num_epochs, lr)\u001B[0m\n\u001B[1;32m     28\u001B[0m inputs, targets \u001B[38;5;241m=\u001B[39m inputs\u001B[38;5;241m.\u001B[39mto(DEVICE), targets\u001B[38;5;241m.\u001B[39mto(DEVICE)\n\u001B[1;32m     30\u001B[0m \u001B[38;5;66;03m# Forward pass\u001B[39;00m\n\u001B[0;32m---> 31\u001B[0m outputs \u001B[38;5;241m=\u001B[39m model(inputs)\n\u001B[1;32m     32\u001B[0m loss \u001B[38;5;241m=\u001B[39m criterion(outputs, targets)\n\u001B[1;32m     34\u001B[0m \u001B[38;5;66;03m# Backward and optimize\u001B[39;00m\n",
      "File \u001B[0;32m~/miniconda3/envs/IA/lib/python3.11/site-packages/torch/nn/modules/module.py:1532\u001B[0m, in \u001B[0;36mModule._wrapped_call_impl\u001B[0;34m(self, *args, **kwargs)\u001B[0m\n\u001B[1;32m   1530\u001B[0m     \u001B[38;5;28;01mreturn\u001B[39;00m \u001B[38;5;28mself\u001B[39m\u001B[38;5;241m.\u001B[39m_compiled_call_impl(\u001B[38;5;241m*\u001B[39margs, \u001B[38;5;241m*\u001B[39m\u001B[38;5;241m*\u001B[39mkwargs)  \u001B[38;5;66;03m# type: ignore[misc]\u001B[39;00m\n\u001B[1;32m   1531\u001B[0m \u001B[38;5;28;01melse\u001B[39;00m:\n\u001B[0;32m-> 1532\u001B[0m     \u001B[38;5;28;01mreturn\u001B[39;00m \u001B[38;5;28mself\u001B[39m\u001B[38;5;241m.\u001B[39m_call_impl(\u001B[38;5;241m*\u001B[39margs, \u001B[38;5;241m*\u001B[39m\u001B[38;5;241m*\u001B[39mkwargs)\n",
      "File \u001B[0;32m~/miniconda3/envs/IA/lib/python3.11/site-packages/torch/nn/modules/module.py:1541\u001B[0m, in \u001B[0;36mModule._call_impl\u001B[0;34m(self, *args, **kwargs)\u001B[0m\n\u001B[1;32m   1536\u001B[0m \u001B[38;5;66;03m# If we don't have any hooks, we want to skip the rest of the logic in\u001B[39;00m\n\u001B[1;32m   1537\u001B[0m \u001B[38;5;66;03m# this function, and just call forward.\u001B[39;00m\n\u001B[1;32m   1538\u001B[0m \u001B[38;5;28;01mif\u001B[39;00m \u001B[38;5;129;01mnot\u001B[39;00m (\u001B[38;5;28mself\u001B[39m\u001B[38;5;241m.\u001B[39m_backward_hooks \u001B[38;5;129;01mor\u001B[39;00m \u001B[38;5;28mself\u001B[39m\u001B[38;5;241m.\u001B[39m_backward_pre_hooks \u001B[38;5;129;01mor\u001B[39;00m \u001B[38;5;28mself\u001B[39m\u001B[38;5;241m.\u001B[39m_forward_hooks \u001B[38;5;129;01mor\u001B[39;00m \u001B[38;5;28mself\u001B[39m\u001B[38;5;241m.\u001B[39m_forward_pre_hooks\n\u001B[1;32m   1539\u001B[0m         \u001B[38;5;129;01mor\u001B[39;00m _global_backward_pre_hooks \u001B[38;5;129;01mor\u001B[39;00m _global_backward_hooks\n\u001B[1;32m   1540\u001B[0m         \u001B[38;5;129;01mor\u001B[39;00m _global_forward_hooks \u001B[38;5;129;01mor\u001B[39;00m _global_forward_pre_hooks):\n\u001B[0;32m-> 1541\u001B[0m     \u001B[38;5;28;01mreturn\u001B[39;00m forward_call(\u001B[38;5;241m*\u001B[39margs, \u001B[38;5;241m*\u001B[39m\u001B[38;5;241m*\u001B[39mkwargs)\n\u001B[1;32m   1543\u001B[0m \u001B[38;5;28;01mtry\u001B[39;00m:\n\u001B[1;32m   1544\u001B[0m     result \u001B[38;5;241m=\u001B[39m \u001B[38;5;28;01mNone\u001B[39;00m\n",
      "Cell \u001B[0;32mIn[78], line 13\u001B[0m, in \u001B[0;36mModel_1A.forward\u001B[0;34m(self, x)\u001B[0m\n\u001B[1;32m     12\u001B[0m \u001B[38;5;28;01mdef\u001B[39;00m \u001B[38;5;21mforward\u001B[39m(\u001B[38;5;28mself\u001B[39m, x):\n\u001B[0;32m---> 13\u001B[0m     \u001B[38;5;28;01mreturn\u001B[39;00m \u001B[38;5;28mself\u001B[39m\u001B[38;5;241m.\u001B[39mlayers(x)\n",
      "File \u001B[0;32m~/miniconda3/envs/IA/lib/python3.11/site-packages/torch/nn/modules/module.py:1532\u001B[0m, in \u001B[0;36mModule._wrapped_call_impl\u001B[0;34m(self, *args, **kwargs)\u001B[0m\n\u001B[1;32m   1530\u001B[0m     \u001B[38;5;28;01mreturn\u001B[39;00m \u001B[38;5;28mself\u001B[39m\u001B[38;5;241m.\u001B[39m_compiled_call_impl(\u001B[38;5;241m*\u001B[39margs, \u001B[38;5;241m*\u001B[39m\u001B[38;5;241m*\u001B[39mkwargs)  \u001B[38;5;66;03m# type: ignore[misc]\u001B[39;00m\n\u001B[1;32m   1531\u001B[0m \u001B[38;5;28;01melse\u001B[39;00m:\n\u001B[0;32m-> 1532\u001B[0m     \u001B[38;5;28;01mreturn\u001B[39;00m \u001B[38;5;28mself\u001B[39m\u001B[38;5;241m.\u001B[39m_call_impl(\u001B[38;5;241m*\u001B[39margs, \u001B[38;5;241m*\u001B[39m\u001B[38;5;241m*\u001B[39mkwargs)\n",
      "File \u001B[0;32m~/miniconda3/envs/IA/lib/python3.11/site-packages/torch/nn/modules/module.py:1541\u001B[0m, in \u001B[0;36mModule._call_impl\u001B[0;34m(self, *args, **kwargs)\u001B[0m\n\u001B[1;32m   1536\u001B[0m \u001B[38;5;66;03m# If we don't have any hooks, we want to skip the rest of the logic in\u001B[39;00m\n\u001B[1;32m   1537\u001B[0m \u001B[38;5;66;03m# this function, and just call forward.\u001B[39;00m\n\u001B[1;32m   1538\u001B[0m \u001B[38;5;28;01mif\u001B[39;00m \u001B[38;5;129;01mnot\u001B[39;00m (\u001B[38;5;28mself\u001B[39m\u001B[38;5;241m.\u001B[39m_backward_hooks \u001B[38;5;129;01mor\u001B[39;00m \u001B[38;5;28mself\u001B[39m\u001B[38;5;241m.\u001B[39m_backward_pre_hooks \u001B[38;5;129;01mor\u001B[39;00m \u001B[38;5;28mself\u001B[39m\u001B[38;5;241m.\u001B[39m_forward_hooks \u001B[38;5;129;01mor\u001B[39;00m \u001B[38;5;28mself\u001B[39m\u001B[38;5;241m.\u001B[39m_forward_pre_hooks\n\u001B[1;32m   1539\u001B[0m         \u001B[38;5;129;01mor\u001B[39;00m _global_backward_pre_hooks \u001B[38;5;129;01mor\u001B[39;00m _global_backward_hooks\n\u001B[1;32m   1540\u001B[0m         \u001B[38;5;129;01mor\u001B[39;00m _global_forward_hooks \u001B[38;5;129;01mor\u001B[39;00m _global_forward_pre_hooks):\n\u001B[0;32m-> 1541\u001B[0m     \u001B[38;5;28;01mreturn\u001B[39;00m forward_call(\u001B[38;5;241m*\u001B[39margs, \u001B[38;5;241m*\u001B[39m\u001B[38;5;241m*\u001B[39mkwargs)\n\u001B[1;32m   1543\u001B[0m \u001B[38;5;28;01mtry\u001B[39;00m:\n\u001B[1;32m   1544\u001B[0m     result \u001B[38;5;241m=\u001B[39m \u001B[38;5;28;01mNone\u001B[39;00m\n",
      "File \u001B[0;32m~/miniconda3/envs/IA/lib/python3.11/site-packages/torch/nn/modules/container.py:217\u001B[0m, in \u001B[0;36mSequential.forward\u001B[0;34m(self, input)\u001B[0m\n\u001B[1;32m    215\u001B[0m \u001B[38;5;28;01mdef\u001B[39;00m \u001B[38;5;21mforward\u001B[39m(\u001B[38;5;28mself\u001B[39m, \u001B[38;5;28minput\u001B[39m):\n\u001B[1;32m    216\u001B[0m     \u001B[38;5;28;01mfor\u001B[39;00m module \u001B[38;5;129;01min\u001B[39;00m \u001B[38;5;28mself\u001B[39m:\n\u001B[0;32m--> 217\u001B[0m         \u001B[38;5;28minput\u001B[39m \u001B[38;5;241m=\u001B[39m module(\u001B[38;5;28minput\u001B[39m)\n\u001B[1;32m    218\u001B[0m     \u001B[38;5;28;01mreturn\u001B[39;00m \u001B[38;5;28minput\u001B[39m\n",
      "File \u001B[0;32m~/miniconda3/envs/IA/lib/python3.11/site-packages/torch/nn/modules/module.py:1532\u001B[0m, in \u001B[0;36mModule._wrapped_call_impl\u001B[0;34m(self, *args, **kwargs)\u001B[0m\n\u001B[1;32m   1530\u001B[0m     \u001B[38;5;28;01mreturn\u001B[39;00m \u001B[38;5;28mself\u001B[39m\u001B[38;5;241m.\u001B[39m_compiled_call_impl(\u001B[38;5;241m*\u001B[39margs, \u001B[38;5;241m*\u001B[39m\u001B[38;5;241m*\u001B[39mkwargs)  \u001B[38;5;66;03m# type: ignore[misc]\u001B[39;00m\n\u001B[1;32m   1531\u001B[0m \u001B[38;5;28;01melse\u001B[39;00m:\n\u001B[0;32m-> 1532\u001B[0m     \u001B[38;5;28;01mreturn\u001B[39;00m \u001B[38;5;28mself\u001B[39m\u001B[38;5;241m.\u001B[39m_call_impl(\u001B[38;5;241m*\u001B[39margs, \u001B[38;5;241m*\u001B[39m\u001B[38;5;241m*\u001B[39mkwargs)\n",
      "File \u001B[0;32m~/miniconda3/envs/IA/lib/python3.11/site-packages/torch/nn/modules/module.py:1541\u001B[0m, in \u001B[0;36mModule._call_impl\u001B[0;34m(self, *args, **kwargs)\u001B[0m\n\u001B[1;32m   1536\u001B[0m \u001B[38;5;66;03m# If we don't have any hooks, we want to skip the rest of the logic in\u001B[39;00m\n\u001B[1;32m   1537\u001B[0m \u001B[38;5;66;03m# this function, and just call forward.\u001B[39;00m\n\u001B[1;32m   1538\u001B[0m \u001B[38;5;28;01mif\u001B[39;00m \u001B[38;5;129;01mnot\u001B[39;00m (\u001B[38;5;28mself\u001B[39m\u001B[38;5;241m.\u001B[39m_backward_hooks \u001B[38;5;129;01mor\u001B[39;00m \u001B[38;5;28mself\u001B[39m\u001B[38;5;241m.\u001B[39m_backward_pre_hooks \u001B[38;5;129;01mor\u001B[39;00m \u001B[38;5;28mself\u001B[39m\u001B[38;5;241m.\u001B[39m_forward_hooks \u001B[38;5;129;01mor\u001B[39;00m \u001B[38;5;28mself\u001B[39m\u001B[38;5;241m.\u001B[39m_forward_pre_hooks\n\u001B[1;32m   1539\u001B[0m         \u001B[38;5;129;01mor\u001B[39;00m _global_backward_pre_hooks \u001B[38;5;129;01mor\u001B[39;00m _global_backward_hooks\n\u001B[1;32m   1540\u001B[0m         \u001B[38;5;129;01mor\u001B[39;00m _global_forward_hooks \u001B[38;5;129;01mor\u001B[39;00m _global_forward_pre_hooks):\n\u001B[0;32m-> 1541\u001B[0m     \u001B[38;5;28;01mreturn\u001B[39;00m forward_call(\u001B[38;5;241m*\u001B[39margs, \u001B[38;5;241m*\u001B[39m\u001B[38;5;241m*\u001B[39mkwargs)\n\u001B[1;32m   1543\u001B[0m \u001B[38;5;28;01mtry\u001B[39;00m:\n\u001B[1;32m   1544\u001B[0m     result \u001B[38;5;241m=\u001B[39m \u001B[38;5;28;01mNone\u001B[39;00m\n",
      "File \u001B[0;32m~/miniconda3/envs/IA/lib/python3.11/site-packages/torch/nn/modules/linear.py:116\u001B[0m, in \u001B[0;36mLinear.forward\u001B[0;34m(self, input)\u001B[0m\n\u001B[1;32m    115\u001B[0m \u001B[38;5;28;01mdef\u001B[39;00m \u001B[38;5;21mforward\u001B[39m(\u001B[38;5;28mself\u001B[39m, \u001B[38;5;28minput\u001B[39m: Tensor) \u001B[38;5;241m-\u001B[39m\u001B[38;5;241m>\u001B[39m Tensor:\n\u001B[0;32m--> 116\u001B[0m     \u001B[38;5;28;01mreturn\u001B[39;00m F\u001B[38;5;241m.\u001B[39mlinear(\u001B[38;5;28minput\u001B[39m, \u001B[38;5;28mself\u001B[39m\u001B[38;5;241m.\u001B[39mweight, \u001B[38;5;28mself\u001B[39m\u001B[38;5;241m.\u001B[39mbias)\n",
      "\u001B[0;31mRuntimeError\u001B[0m: mat1 and mat2 shapes cannot be multiplied (32x9 and 14x9)"
     ]
    },
    {
     "data": {
      "text/plain": [
       "<Figure size 640x480 with 1 Axes>"
      ],
      "image/png": "[encoded data removed]"
     },
     "metadata": {},
     "output_type": "display_data"
    }
   ],
   "execution_count": 81
  },
  {
   "metadata": {},
   "cell_type": "code",
   "outputs": [],
   "execution_count": null,
   "source": [
    "train_accuracy, _, _ = evaluate(model1A, train_dataset1A)\n",
    "test_accuracy, test_all_targets, test_all_predicted = evaluate(model, test_dataset)\n",
    "\n",
    "print(f'Train accuracy: {train_accuracy*100:.2f}%')\n",
    "print(f'Test accuracy: {test_accuracy*100:.2f}%')\n",
    "\n",
    "plot_confusion_matrix(test_all_targets, test_all_predicted, label_encoder)"
   ]
  },
  {
   "cell_type": "markdown",
   "source": [
    "## Solution 1B: Second preprocessing solution\n",
    "<a name=\"solution_1b\"></a>\n",
    "\n",
    "Subsequent of the [Solution 1A](#solution_1a), uses the same basic MLP but with an alternative preprocessing step."
   ],
   "metadata": {
    "id": "-xwZAE4I0h9u"
   }
  },
  {
   "cell_type": "code",
   "source": [
    " # COMPARAR EL PREPROCESSAT, MODEL HA DE SER EL MATEIX, JA EL TINC, EL QUE VALORA ES LANALISIS DELS RESULTATS I EL PREPROCESSAT\n",
    " #  "
   ],
   "metadata": {
    "id": "TOhUVc6lx9Kh"
   },
   "execution_count": null,
   "outputs": []
  },
  {
   "cell_type": "markdown",
   "source": [
    "## Solution 2: New model solution\n",
    "<a name=\"solution_2\"></a>\n",
    "\n",
    "Subsequent of either [Solution 1A](#solution_1a) or [Solution 1B](#solution_1b), uses the same preprocessing step but improves the MLP model."
   ],
   "metadata": {
    "id": "3hq-iiM50h9v"
   }
  },
  {
   "cell_type": "code",
   "source": [
    "# TODO: YOUR CODE HERE"
   ],
   "metadata": {
    "id": "jDpa4tmwx9jI"
   },
   "execution_count": null,
   "outputs": []
  }
 ]
}
