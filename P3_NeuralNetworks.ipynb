{
 "nbformat": 4,
 "nbformat_minor": 0,
 "metadata": {
  "colab": {
   "provenance": [],
   "collapsed_sections": [
    "M3BrTKOwa8Lb",
    "X2URGi0bbDKP",
    "QEcdO0wmbE1-",
    "nBkueZrS9aRR",
    "2dZQVZVZwRjU",
    "yx3zDPUXU4oA",
    "MxsojjAzs3dn",
    "gA2hDCcovujy",
    "OzawZ_4kvvl3",
    "jBcUPiT-vx-g",
    "YhUpZgq5fjD3",
    "8bF5-P_Y0h9t",
    "uStwppMUFXbf",
    "nxtTGLqbFZgB",
    "lPFEpDkJFbln",
    "cVEQFf7xGypd",
    "p1FFO8IUJJud",
    "5iMQfqcc0h9t",
    "be6e0EGG0h9u",
    "-xwZAE4I0h9u",
    "3hq-iiM50h9v"
   ]
  },
  "kernelspec": {
   "name": "python3",
   "display_name": "Python 3 (ipykernel)",
   "language": "python"
  },
  "language_info": {
   "name": "python"
  }
 },
 "cells": [
  {
   "cell_type": "markdown",
   "source": [
    "# 3rd practice: Neural Networks\n",
    "* **Course**: Artificial Intelligence\n",
    "* **University**: Universitat Rovira i Virgili\n",
    "\n",
    "In this practice students will explore the following fundamentals of machine learning:\n",
    "* Data analysis\n",
    "* Preprocessing\n",
    "* Basic design of Multi-Layer Perceptrons (MLP)\n",
    "* Training of neural networks\n",
    "* Results analysis\n",
    "* Decision making / Critical thinking\n",
    "\n",
    "While reading this notebook, please note the following information:\n",
    "* Each section (and subsection) has a title and a brief description of its contents.\n",
    "* If a section (or subsection) title starts with `Student`, the student has work to do inside it, adding code and/or text.\n",
    "* If the title of a section begins with `Teacher`, all its content (including subsections) is part of the work statement. Subsequently, it **MUST NOT** be modified.\n",
    "* Sections must be executed in order.\n",
    "* **<font color='lightgreen'>Please enter your full name in the next cell in this section and run it BEFORE going any further.</font>**\n",
    "\n",
    "## External resources\n",
    "Please, read the following tutorials to get an introduction to Google Colab and the Pandas library:\n",
    "* https://colab.research.google.com/notebooks/basic_features_overview.ipynb\n",
    "* https://colab.research.google.com/notebooks/mlcc/intro_to_pandas.ipynb\n",
    "\n",
    "## Deliverable\n",
    "It is an **individual** practice. The student only needs to deliver **this notebook** including the answers. The file must have as name `P3_[Name]_[Surname/s].ipynb`, replacing `[Name]` and `[Surname/s]` with those from the student.\n",
    "\n",
    "## Evaluation\n",
    "To be accepted, all practices delivered must contain at least **one solution with a preprocessing step** and **one solution with a modified neural network**.\n",
    "A third solution with a second preprocessing step will be valued.\n",
    "\n",
    "<font color='orange'>**Similar or identical practices will get a grade of 0.**</font>"
   ],
   "metadata": {
    "id": "4VsFsqBkwS2u"
   }
  },
  {
   "cell_type": "code",
   "source": "STUDENT_NAME = \"GERARD PASCUAL FONTANILLES\" # @param {type:\"string\"}",
   "metadata": {
    "id": "isV-YN1wwW3d",
    "cellView": "form",
    "ExecuteTime": {
     "end_time": "2024-05-15T08:18:40.122695Z",
     "start_time": "2024-05-15T08:18:40.118634Z"
    }
   },
   "outputs": [],
   "execution_count": 1
  },
  {
   "cell_type": "markdown",
   "source": [
    "# Teacher: Initialization\n",
    "Defines the **Imports** and **Device** for the practice. More details in each subsection."
   ],
   "metadata": {
    "id": "M3BrTKOwa8Lb"
   }
  },
  {
   "cell_type": "markdown",
   "source": [
    "## Imports\n",
    "The following code cell determines the available packages/libraries.\n",
    "\n",
    "**You CANNOT add any other import, neither here nor anywhere else in the code.**"
   ],
   "metadata": {
    "id": "X2URGi0bbDKP"
   }
  },
  {
   "cell_type": "code",
   "source": [
    "import pandas as pd\n",
    "import numpy as np\n",
    "\n",
    "from sklearn.model_selection import train_test_split\n",
    "from sklearn.preprocessing import LabelEncoder, OneHotEncoder\n",
    "from sklearn.compose import ColumnTransformer\n",
    "\n",
    "import torch\n",
    "import torch.nn as nn\n",
    "import torch.optim as optim\n",
    "from torch.utils.data import TensorDataset, DataLoader\n",
    "import torch.nn.functional as F\n",
    "\n",
    "import matplotlib.pyplot as plt\n",
    "from IPython import display\n",
    "from sklearn.metrics import accuracy_score\n",
    "from sklearn.metrics import confusion_matrix\n",
    "import seaborn as sns"
   ],
   "metadata": {
    "id": "qqAqx8e9p_yh",
    "ExecuteTime": {
     "end_time": "2024-05-15T08:18:58.031943Z",
     "start_time": "2024-05-15T08:18:54.994177Z"
    }
   },
   "outputs": [],
   "execution_count": 2
  },
  {
   "cell_type": "markdown",
   "source": [
    "## Device\n",
    "Checks if there is a GPU for training the neural networks. If not, the CPU will be used. It is recommended to first test if the preprocessing and model definition are correct in a CPU-based environment and then switch to the GPU-based environment for training."
   ],
   "metadata": {
    "id": "QEcdO0wmbE1-"
   }
  },
  {
   "cell_type": "code",
   "source": [
    "if torch.cuda.is_available():\n",
    "  DEVICE = \"cuda\"\n",
    "  print(\"There is GPU available. Printing GPU information:\")\n",
    "  !nvidia-smi\n",
    "else:\n",
    "  DEVICE = \"cpu\"\n",
    "  print(\"There is no GPU available, using CPU.\")"
   ],
   "metadata": {
    "id": "fV40luAAw4hf",
    "colab": {
     "base_uri": "https://localhost:8080/"
    },
    "outputId": "5dc1abac-aa28-4770-a3b7-335039c11f2a",
    "ExecuteTime": {
     "end_time": "2024-05-15T08:19:00.267252Z",
     "start_time": "2024-05-15T08:19:00.260750Z"
    }
   },
   "outputs": [
    {
     "name": "stdout",
     "output_type": "stream",
     "text": [
      "There is no GPU available, using CPU.\n"
     ]
    }
   ],
   "execution_count": 3
  },
  {
   "cell_type": "markdown",
   "source": [
    "# Teacher: Base code\n",
    "<a name=\"base_code\"></a>\n",
    "\n",
    "Code available for use in the `Student` sections."
   ],
   "metadata": {
    "id": "nBkueZrS9aRR"
   }
  },
  {
   "cell_type": "markdown",
   "source": [
    "## Data loading\n",
    "This loads the `CarsData.csv` file (available in Moodle) as a Pandas dataframe. **The file must first be loaded into the environment folder** ![image.png](data:image/png;base64,iVBORw0KGgoAAAANSUhEUgAAACkAAAAqCAYAAAAu9HJYAAABEElEQVRYCWOwsLD4P9gxw2B3IMh9DC8Kuf6D8GB27KgjqRU7oyE5GpLUCgFqmTOaJkdDklohQC1zSEqTVX7q/+/n8YCrUVh1CqOfFXD9nx0h/9+SBg0Woh3pY2/8/3KWAFYH0tqhRDsywMHw/40cPjAGsdGjsilA9f+TAm68noB5BhQboFhBNwMXn2qOBFlAikNBsQKKHVwOQxanqiORDcbFJhQj2PSNOhJbqIyGJDkhMBqS1AoBapkzmrtHQxJbCBDTwIDVzcTQNKkWQQ7H11QjxmEwNTRrYGALXXqJEZ276eUgbPaMOhJbqJAjNhqS5IQaNj2jIYktVMgRGw1JckINm56hEZLYXD7YxIbEPA4AO3Sw4kFc2wQAAAAASUVORK5CYII=). If you use a web browser *other* than Google Chrome, the loading may fail (e.g., the loading circle is red and never ends).\n",
    "\n",
    "This dataset will be used for the **Manufacturer classification task**, where the machine learning model aims to predict/output the Manufacturer of a car using the rest of features as inputs.\n",
    "\n",
    "The dataset was extracted from [this website](https://www.kaggle.com/datasets/meruvulikith/90000-cars-data-from-1970-to-2024/data). The dataframe to be used in practice is a 25% subsample of the full dataset, different from that of other students."
   ],
   "metadata": {
    "id": "2dZQVZVZwRjU"
   }
  },
  {
   "cell_type": "code",
   "source": [
    "LABEL_COL_NAME = \"Manufacturer\" # Global constant\n",
    "\n",
    "def data_loading(file_name):\n",
    "  original_df = pd.read_csv(file_name)\n",
    "  original_df = original_df.drop(columns=[\"model\"]) # Model column is not available\n",
    "  original_df\n",
    "\n",
    "  # Infer column types\n",
    "  infer_type = lambda x: x if pd.api.types.is_numeric_dtype(x) else pd.Categorical(x)\n",
    "  original_df = original_df.apply(infer_type, axis=0)\n",
    "\n",
    "  # Select subset\n",
    "  frac=0.25\n",
    "  random_seed = hash(STUDENT_NAME) % (2**32-1) # Seed must be between 0 and 2**32 - 1\n",
    "  student_df = original_df.sample(frac=frac, random_state=random_seed).reset_index()\n",
    "  student_df = student_df.drop(columns=[\"index\"])\n",
    "\n",
    "  return student_df"
   ],
   "metadata": {
    "id": "CdW-8WIeuJYA",
    "ExecuteTime": {
     "end_time": "2024-05-15T08:19:03.564577Z",
     "start_time": "2024-05-15T08:19:03.558722Z"
    }
   },
   "outputs": [],
   "execution_count": 4
  },
  {
   "cell_type": "markdown",
   "source": [
    "## Analysis\n",
    "Functions that facilitate the data distribution analysis for the [Student: Exploratory data analysis](#data_analysis) section."
   ],
   "metadata": {
    "id": "yx3zDPUXU4oA"
   }
  },
  {
   "cell_type": "code",
   "source": [
    "def feature_histogram(df, column_name):\n",
    "    column_data = df[column_name]\n",
    "\n",
    "    if pd.api.types.is_numeric_dtype(column_data):\n",
    "        plt.hist(column_data, bins=10)\n",
    "    else:\n",
    "        value_counts = column_data.value_counts()\n",
    "        value_counts.plot(kind='bar')\n",
    "\n",
    "    plt.xlabel(column_name)\n",
    "    plt.ylabel('Frequency')\n",
    "    plt.title('Histogram of {}'.format(column_name))\n",
    "    plt.show()"
   ],
   "metadata": {
    "id": "Vwbgy0_NU7b_",
    "ExecuteTime": {
     "end_time": "2024-05-15T08:19:05.377453Z",
     "start_time": "2024-05-15T08:19:05.372080Z"
    }
   },
   "outputs": [],
   "execution_count": 5
  },
  {
   "metadata": {
    "ExecuteTime": {
     "end_time": "2024-05-15T08:19:07.058110Z",
     "start_time": "2024-05-15T08:19:07.051402Z"
    }
   },
   "cell_type": "code",
   "source": [
    "def feature_stats(df, column_name, verbose=True):\n",
    "  stats = {}\n",
    "  column_data = df[column_name]\n",
    "\n",
    "  # Numerical\n",
    "  if pd.api.types.is_numeric_dtype(column_data):\n",
    "    stats[\"Min\"] = column_data.min()\n",
    "    stats[\"Max\"] = column_data.max()\n",
    "    stats[\"Mean\"] = column_data.mean()\n",
    "    stats[\"Std\"] = column_data.std()\n",
    "\n",
    "  # Categorical\n",
    "  elif pd.api.types.is_categorical_dtype(column_data):\n",
    "    stats[\"Unique\"] = column_data.value_counts()\n",
    "\n",
    "  if verbose and len(stats) > 0:\n",
    "    stats_str = \"\"\n",
    "    for name, value in stats.items():\n",
    "      stats_str += f\" {name}={value} |\"\n",
    "    print(f\"Stats of {column_name}:{stats_str}\")\n",
    "\n",
    "  return stats"
   ],
   "outputs": [],
   "execution_count": 6
  },
  {
   "metadata": {
    "ExecuteTime": {
     "end_time": "2024-05-15T08:19:08.191251Z",
     "start_time": "2024-05-15T08:19:08.181622Z"
    }
   },
   "cell_type": "code",
   "source": [
    "def features_relationship(df, column_name_1, column_name_2):\n",
    "    data1 = df[column_name_1]\n",
    "    data2 = df[column_name_2]\n",
    "\n",
    "    # Both columns are numerical\n",
    "    if pd.api.types.is_numeric_dtype(data1) and pd.api.types.is_numeric_dtype(data2):\n",
    "        plt.scatter(data1, data2)\n",
    "        plt.xlabel(column_name_1)\n",
    "        plt.ylabel(column_name_2)\n",
    "        plt.title('Relationship between {} and {}'.format(column_name_1, column_name_2))\n",
    "        plt.show()\n",
    "    # Both columns are categorical\n",
    "    elif pd.api.types.is_categorical_dtype(data1) and pd.api.types.is_categorical_dtype(data2):\n",
    "        cross_table = pd.crosstab(data1, data2)\n",
    "        cross_table.plot(kind='bar', stacked=True)\n",
    "        plt.xlabel(column_name_1)\n",
    "        plt.ylabel('Frequency')\n",
    "        plt.title('Relationship between {} and {}'.format(column_name_1, column_name_2))\n",
    "        plt.show()\n",
    "    # A column is numerical and the other categorical\n",
    "    else:\n",
    "        # Check which is which\n",
    "        if pd.api.types.is_categorical_dtype(data1):\n",
    "            categorical_column = column_name_1\n",
    "            numerical_column = column_name_2\n",
    "        else:\n",
    "            categorical_column = column_name_2\n",
    "            numerical_column = column_name_1\n",
    "\n",
    "        # Get data\n",
    "        categorical_data = df[categorical_column]\n",
    "        numerical_data = df[numerical_column]\n",
    "\n",
    "        # Convert categorical data to numeric representation\n",
    "        categorical_codes = categorical_data.astype('category').cat.codes\n",
    "\n",
    "        # Plot\n",
    "        plt.scatter(numerical_data, categorical_codes)\n",
    "        plt.xlabel(numerical_column)\n",
    "        plt.ylabel(categorical_column)\n",
    "        plt.title('Relationship between {} and {}'.format(numerical_column, categorical_column))\n",
    "        plt.yticks(ticks=categorical_codes.unique(), labels=categorical_data.unique()) # Set sticks labels as category names\n",
    "        plt.show()"
   ],
   "outputs": [],
   "execution_count": 7
  },
  {
   "cell_type": "markdown",
   "source": [
    "## PyTorch dataset\n",
    "Function that transforms the preprocessed dataframe into the training and test datasets using the PyTorch TensorDataset class. To be used in the [Experiments](#experiments) section."
   ],
   "metadata": {
    "id": "MxsojjAzs3dn"
   }
  },
  {
   "cell_type": "code",
   "source": [
    "def df_to_dataset(preprocessed_df, label_col_name=LABEL_COL_NAME):\n",
    "  if not label_col_name in preprocessed_df.columns:\n",
    "    raise Exception(f\"Dataframe MUST contain the label column [{label_col_name}], preferably in the last column.\")\n",
    "\n",
    "  # Obtain inputs and labels\n",
    "  columns_to_discard = [col_name for col_name in preprocessed_df.columns if col_name == label_col_name]\n",
    "  x = preprocessed_df.drop(columns=columns_to_discard)\n",
    "  y = preprocessed_df[label_col_name]\n",
    "\n",
    "  # Encode labels (string to identifier integer)\n",
    "  label_encoder = LabelEncoder()\n",
    "  y = label_encoder.fit_transform(y)\n",
    "\n",
    "  # Convert data to PyTorch tensors\n",
    "  x_tensor = torch.tensor(x.values, dtype=torch.float)\n",
    "  y_tensor = torch.tensor(y, dtype=torch.long)\n",
    "\n",
    "  # Train-test split: 80% train, 20% test\n",
    "  x_train_tensor, x_test_tensor, y_train_tensor, y_test_tensor = train_test_split(x_tensor, y_tensor, test_size=0.2, random_state=42, shuffle=True)\n",
    "\n",
    "  # Create PyTorch datasets\n",
    "  train_dataset = TensorDataset(x_train_tensor, y_train_tensor)\n",
    "  test_dataset = TensorDataset(x_test_tensor, y_test_tensor)\n",
    "\n",
    "  # Get additional information for the model\n",
    "  input_size = x_train_tensor.shape[1]\n",
    "  num_classes = len(label_encoder.classes_)\n",
    "\n",
    "  return train_dataset, test_dataset, input_size, num_classes, label_encoder"
   ],
   "metadata": {
    "id": "d33JkXNl79nY",
    "ExecuteTime": {
     "end_time": "2024-05-15T08:19:10.270716Z",
     "start_time": "2024-05-15T08:19:10.263581Z"
    }
   },
   "outputs": [],
   "execution_count": 8
  },
  {
   "cell_type": "markdown",
   "source": [
    "## Model\n",
    "Basic function for the model creation and its movement to the corresponding DEVICE (GPU or CPU). To be used in the [Experiments](#experiments) section."
   ],
   "metadata": {
    "id": "gA2hDCcovujy"
   }
  },
  {
   "cell_type": "code",
   "source": [
    "def create_model(model_class, input_size, num_classes, verbose=True):\n",
    "  model = model_class(input_size, num_classes)\n",
    "  model.to(DEVICE)\n",
    "\n",
    "  if verbose:\n",
    "    num_parameters = 0\n",
    "    for layer in model.parameters():\n",
    "      num_parameters += layer.nelement() * layer.element_size()\n",
    "    print(f\"The model has {num_parameters} parameters\")\n",
    "\n",
    "  return model"
   ],
   "metadata": {
    "id": "h4PJJ85gqhJ5",
    "ExecuteTime": {
     "end_time": "2024-05-15T08:19:12.981056Z",
     "start_time": "2024-05-15T08:19:12.973049Z"
    }
   },
   "outputs": [],
   "execution_count": 9
  },
  {
   "cell_type": "markdown",
   "source": [
    "## Training\n",
    "Function that trains a **model** with a **dataset**, for a **number of epochs** and using a specific **learning rate (lr)**. To be used in the [Experiments](#experiments) section."
   ],
   "metadata": {
    "id": "OzawZ_4kvvl3"
   }
  },
  {
   "cell_type": "code",
   "source": [
    "def train(model, dataset, num_epochs, lr):\n",
    "    # Loss and optimizer\n",
    "    criterion = nn.CrossEntropyLoss()\n",
    "    optimizer = optim.Adam(model.parameters(), lr=lr)\n",
    "\n",
    "    # Create PyTorch dataloader\n",
    "    train_loader = DataLoader(dataset, batch_size=32, shuffle=True)\n",
    "\n",
    "    # Set up loss evolution plot\n",
    "    losses = []\n",
    "    plt.ion()\n",
    "    fig, ax = plt.subplots()\n",
    "    ax.set_xlabel('Epoch')\n",
    "    ax.set_ylabel('Loss')\n",
    "    ax.set_title('Training Loss Evolution')\n",
    "    line, = ax.plot([], [])\n",
    "\n",
    "    # Training loop\n",
    "    for epoch in range(num_epochs):\n",
    "        # Set model to train mode\n",
    "        model.train()\n",
    "\n",
    "        epoch_loss = 0.0\n",
    "        num_batches = 0\n",
    "\n",
    "        for inputs, targets in train_loader:\n",
    "            # Move data to GPU\n",
    "            inputs, targets = inputs.to(DEVICE), targets.to(DEVICE)\n",
    "\n",
    "            # Forward pass\n",
    "            outputs = model(inputs)\n",
    "            loss = criterion(outputs, targets)\n",
    "\n",
    "            # Backward and optimize\n",
    "            optimizer.zero_grad()\n",
    "            loss.backward()\n",
    "            optimizer.step()\n",
    "\n",
    "            # Update epoch loss\n",
    "            epoch_loss += loss.item()\n",
    "            num_batches += 1\n",
    "\n",
    "        # Update lists for loss plotting\n",
    "        mean_epoch_loss = epoch_loss / num_batches\n",
    "        losses.append(mean_epoch_loss)\n",
    "\n",
    "        # Update plot\n",
    "        line.set_ydata(losses)\n",
    "        line.set_xdata(range(1, len(losses)+1))\n",
    "        ax.relim()\n",
    "        ax.autoscale_view()\n",
    "        display.clear_output(wait=True)\n",
    "        display.display(plt.gcf())\n",
    "\n",
    "        # Print specific epoch info\n",
    "        print(f'Epoch [{epoch+1}/{num_epochs}] | Mean epoch loss: {mean_epoch_loss:.4f}')\n",
    "\n",
    "    # Turn off interactive mode and show plot\n",
    "    plt.ioff()\n",
    "    plt.close()\n",
    "\n",
    "    return losses"
   ],
   "metadata": {
    "id": "Z0AXXQK635dI",
    "ExecuteTime": {
     "end_time": "2024-05-15T08:19:15.005969Z",
     "start_time": "2024-05-15T08:19:14.990292Z"
    }
   },
   "outputs": [],
   "execution_count": 10
  },
  {
   "cell_type": "markdown",
   "source": [
    "## Evaluation\n",
    "Functions for the result analysis of the [Experiments](#experiments) section. In particular, for the analysis of [classification accuracy](https://developers.google.com/machine-learning/crash-course/classification/accuracy?hl=es-419) and [confusion matrix](https://en.wikipedia.org/wiki/Confusion_matrix).\n"
   ],
   "metadata": {
    "id": "jBcUPiT-vx-g"
   }
  },
  {
   "cell_type": "code",
   "source": [
    "def evaluate(model, dataset):\n",
    "  # Create dataloader\n",
    "  eval_loader = DataLoader(dataset, batch_size=256, shuffle=False)\n",
    "\n",
    "  model.eval()  # Set model to evaluation mode\n",
    "  with torch.no_grad():\n",
    "      correct = 0\n",
    "      total = 0\n",
    "      all_targets = np.empty(len(dataset), dtype=int)\n",
    "      all_predicted = np.empty_like(all_targets)\n",
    "      for inputs, targets in eval_loader:\n",
    "          # Move data to GPU\n",
    "          inputs, targets = inputs.to(DEVICE), targets.to(DEVICE)\n",
    "\n",
    "          # Forward pass\n",
    "          outputs = model(inputs)\n",
    "          _, predicted = torch.max(outputs, 1)\n",
    "\n",
    "          # Store targets and predicted labels\n",
    "          all_targets[total:total+targets.size(0)] = targets.cpu().numpy()\n",
    "          all_predicted[total:total+targets.size(0)] = predicted.cpu().numpy()\n",
    "\n",
    "          # Update total and correct predictions\n",
    "          total += targets.size(0)\n",
    "          correct += (predicted == targets).sum().item()\n",
    "\n",
    "      accuracy = correct / total\n",
    "\n",
    "  return accuracy, all_targets, all_predicted\n",
    "\n",
    "\n",
    "def plot_confusion_matrix(all_targets, all_predicted, label_encoder):\n",
    "  # Calculate confusion matrix\n",
    "  cm = confusion_matrix(all_targets, all_predicted)\n",
    "\n",
    "  # Plot confusion matrix\n",
    "  plt.figure(figsize=(10, 8))\n",
    "  sns.heatmap(cm, annot=True, cmap='Blues', fmt='g', xticklabels=label_encoder.classes_, yticklabels=label_encoder.classes_)\n",
    "  plt.xlabel('Predicted labels')\n",
    "  plt.ylabel('True labels')\n",
    "  plt.title('Confusion Matrix')\n",
    "  plt.show()"
   ],
   "metadata": {
    "id": "Yvsz3pZ9qi6V",
    "ExecuteTime": {
     "end_time": "2024-05-15T08:19:17.229609Z",
     "start_time": "2024-05-15T08:19:17.221774Z"
    }
   },
   "outputs": [],
   "execution_count": 11
  },
  {
   "cell_type": "markdown",
   "source": [
    "# Student: Exploratory data analysis\n",
    "<a name=\"data_analysis\"></a>\n",
    "\n",
    "In this section, the student will have to perform the following tasks:\n",
    "* Load the dataset.\n",
    "* Analyze each feature's data distribution using plots, Pandas code (if needed) and textual reasoning (approximately one paragraph per feature) about them.\n",
    "* Analyze relevant relationships between pairs of features' data distributions with plots, Pandas code (if needed) and textual reasoning (approximately one paragraph per relationship) about them. Focus only on the important pairs to avoid overwhelming combinations."
   ],
   "metadata": {
    "id": "YhUpZgq5fjD3"
   }
  },
  {
   "cell_type": "code",
   "source": "df = data_loading(\"CarsData.csv\")",
   "metadata": {
    "id": "64hxfYsTxr0f",
    "ExecuteTime": {
     "end_time": "2024-05-15T08:19:20.114294Z",
     "start_time": "2024-05-15T08:19:19.859490Z"
    }
   },
   "outputs": [],
   "execution_count": 12
  },
  {
   "metadata": {
    "ExecuteTime": {
     "end_time": "2024-05-15T08:19:20.337868Z",
     "start_time": "2024-05-15T08:19:20.302985Z"
    }
   },
   "cell_type": "code",
   "source": "df.head() # Show the first rows of the dataframe to check the data",
   "outputs": [
    {
     "data": {
      "text/plain": [
       "   year  price transmission  mileage fuelType  tax   mpg  engineSize  \\\n",
       "0  2015   8944       Manual    23624   Petrol  150  46.3         1.6   \n",
       "1  2016   6385       Manual    13430   Petrol   30  55.4         1.4   \n",
       "2  2017  17995       Manual    18250   Diesel  160  50.4         2.0   \n",
       "3  2016   7990       Manual    19142   Diesel   30  64.2         1.6   \n",
       "4  2020  14999       Manual     1800   Petrol  145  50.4         1.0   \n",
       "\n",
       "  Manufacturer  \n",
       "0       toyota  \n",
       "1     vauxhall  \n",
       "2   volkswagen  \n",
       "3     vauxhall  \n",
       "4        skoda  "
      ],
      "text/html": [
       "<div>\n",
       "<style scoped>\n",
       "    .dataframe tbody tr th:only-of-type {\n",
       "        vertical-align: middle;\n",
       "    }\n",
       "\n",
       "    .dataframe tbody tr th {\n",
       "        vertical-align: top;\n",
       "    }\n",
       "\n",
       "    .dataframe thead th {\n",
       "        text-align: right;\n",
       "    }\n",
       "</style>\n",
       "<table border=\"1\" class=\"dataframe\">\n",
       "  <thead>\n",
       "    <tr style=\"text-align: right;\">\n",
       "      <th></th>\n",
       "      <th>year</th>\n",
       "      <th>price</th>\n",
       "      <th>transmission</th>\n",
       "      <th>mileage</th>\n",
       "      <th>fuelType</th>\n",
       "      <th>tax</th>\n",
       "      <th>mpg</th>\n",
       "      <th>engineSize</th>\n",
       "      <th>Manufacturer</th>\n",
       "    </tr>\n",
       "  </thead>\n",
       "  <tbody>\n",
       "    <tr>\n",
       "      <th>0</th>\n",
       "      <td>2015</td>\n",
       "      <td>8944</td>\n",
       "      <td>Manual</td>\n",
       "      <td>23624</td>\n",
       "      <td>Petrol</td>\n",
       "      <td>150</td>\n",
       "      <td>46.3</td>\n",
       "      <td>1.6</td>\n",
       "      <td>toyota</td>\n",
       "    </tr>\n",
       "    <tr>\n",
       "      <th>1</th>\n",
       "      <td>2016</td>\n",
       "      <td>6385</td>\n",
       "      <td>Manual</td>\n",
       "      <td>13430</td>\n",
       "      <td>Petrol</td>\n",
       "      <td>30</td>\n",
       "      <td>55.4</td>\n",
       "      <td>1.4</td>\n",
       "      <td>vauxhall</td>\n",
       "    </tr>\n",
       "    <tr>\n",
       "      <th>2</th>\n",
       "      <td>2017</td>\n",
       "      <td>17995</td>\n",
       "      <td>Manual</td>\n",
       "      <td>18250</td>\n",
       "      <td>Diesel</td>\n",
       "      <td>160</td>\n",
       "      <td>50.4</td>\n",
       "      <td>2.0</td>\n",
       "      <td>volkswagen</td>\n",
       "    </tr>\n",
       "    <tr>\n",
       "      <th>3</th>\n",
       "      <td>2016</td>\n",
       "      <td>7990</td>\n",
       "      <td>Manual</td>\n",
       "      <td>19142</td>\n",
       "      <td>Diesel</td>\n",
       "      <td>30</td>\n",
       "      <td>64.2</td>\n",
       "      <td>1.6</td>\n",
       "      <td>vauxhall</td>\n",
       "    </tr>\n",
       "    <tr>\n",
       "      <th>4</th>\n",
       "      <td>2020</td>\n",
       "      <td>14999</td>\n",
       "      <td>Manual</td>\n",
       "      <td>1800</td>\n",
       "      <td>Petrol</td>\n",
       "      <td>145</td>\n",
       "      <td>50.4</td>\n",
       "      <td>1.0</td>\n",
       "      <td>skoda</td>\n",
       "    </tr>\n",
       "  </tbody>\n",
       "</table>\n",
       "</div>"
      ]
     },
     "execution_count": 13,
     "metadata": {},
     "output_type": "execute_result"
    }
   ],
   "execution_count": 13
  },
  {
   "metadata": {
    "ExecuteTime": {
     "end_time": "2024-05-15T08:19:22.895468Z",
     "start_time": "2024-05-15T08:19:22.455727Z"
    }
   },
   "cell_type": "code",
   "source": "feature_histogram(df, \"year\")",
   "outputs": [
    {
     "data": {
      "text/plain": [
       "<Figure size 640x480 with 1 Axes>"
      ],
      "image/png": "[encoded data removed]"
     },
     "metadata": {},
     "output_type": "display_data"
    }
   ],
   "execution_count": 14
  },
  {
   "metadata": {
    "ExecuteTime": {
     "end_time": "2024-05-15T08:19:24.764957Z",
     "start_time": "2024-05-15T08:19:24.750043Z"
    }
   },
   "cell_type": "code",
   "source": "feature_stats(df, \"year\")",
   "outputs": [
    {
     "name": "stdout",
     "output_type": "stream",
     "text": [
      "Stats of year: Min=1970 | Max=2024 | Mean=2017.0505158015392 | Std=2.154449635548746 |\n"
     ]
    },
    {
     "data": {
      "text/plain": [
       "{'Min': 1970,\n",
       " 'Max': 2024,\n",
       " 'Mean': 2017.0505158015392,\n",
       " 'Std': 2.154449635548746}"
      ]
     },
     "execution_count": 15,
     "metadata": {},
     "output_type": "execute_result"
    }
   ],
   "execution_count": 15
  },
  {
   "metadata": {
    "ExecuteTime": {
     "end_time": "2024-05-15T08:19:28.310639Z",
     "start_time": "2024-05-15T08:19:27.810942Z"
    }
   },
   "cell_type": "code",
   "source": "features_relationship(df, \"year\", \"price\")",
   "outputs": [
    {
     "data": {
      "text/plain": [
       "<Figure size 640x480 with 1 Axes>"
      ],
      "image/png": "[encoded data removed]"
     },
     "metadata": {},
     "output_type": "display_data"
    }
   ],
   "execution_count": 16
  },
  {
   "cell_type": "markdown",
   "source": [
    "# Teacher: Baseline solution\n",
    "<a name=\"baseline\"></a>\n",
    "This defines the most basic (and unsuccessful) ready-to-use solution for the **Manufacturer classification task**. It includes the main components:\n",
    "* Preprocessing\n",
    "* Model\n",
    "* Training\n",
    "* Evaluation\n",
    "\n",
    "Nonetheless, there are a lot of important things missing, as can be seen from the very poor results. Use this as inspiration for your [Solution 1A](#solution_1a), that **must** be better than this."
   ],
   "metadata": {
    "id": "8bF5-P_Y0h9t"
   }
  },
  {
   "cell_type": "markdown",
   "source": [
    "## Preprocessing"
   ],
   "metadata": {
    "id": "uStwppMUFXbf"
   }
  },
  {
   "cell_type": "code",
   "source": [
    "def preprocessing_0(df):\n",
    "  preprocessed_df = df.copy()\n",
    "\n",
    "  # Define columns to use and categorical\n",
    "  categorical_cols = [\"transmission\", \"fuelType\"]\n",
    "  columns_to_use = [\"year\", \"price\", \"mileage\", \"tax\", \"mpg\", \"engineSize\"] + categorical_cols\n",
    "\n",
    "  # Select columns to use\n",
    "  preprocessed_df = preprocessed_df[columns_to_use]\n",
    "\n",
    "  # Column transformer of the features\n",
    "  column_transformer = ColumnTransformer([('onehot', OneHotEncoder(), categorical_cols)],\n",
    "                                         remainder='passthrough')\n",
    "  preprocessed_df = pd.DataFrame(column_transformer.fit_transform(preprocessed_df))\n",
    "  # IMPORTANT: Student's can't use ColumnTransformer or similars, only Pandas functions\n",
    "\n",
    "  # Label column at the end\n",
    "  preprocessed_df[LABEL_COL_NAME] = df[LABEL_COL_NAME]\n",
    "\n",
    "  return preprocessed_df\n",
    "\n",
    "preprocessed_df = preprocessing_0(df)\n",
    "train_dataset, test_dataset, input_size, num_classes, label_encoder = df_to_dataset(preprocessed_df)"
   ],
   "metadata": {
    "id": "fQhqKKIt0h9t",
    "ExecuteTime": {
     "end_time": "2024-05-15T08:19:30.549475Z",
     "start_time": "2024-05-15T08:19:30.483558Z"
    }
   },
   "outputs": [],
   "execution_count": 17
  },
  {
   "metadata": {
    "ExecuteTime": {
     "end_time": "2024-05-15T08:19:31.899068Z",
     "start_time": "2024-05-15T08:19:31.893642Z"
    }
   },
   "cell_type": "code",
   "source": "input_size",
   "outputs": [
    {
     "data": {
      "text/plain": [
       "15"
      ]
     },
     "execution_count": 18,
     "metadata": {},
     "output_type": "execute_result"
    }
   ],
   "execution_count": 18
  },
  {
   "metadata": {
    "ExecuteTime": {
     "end_time": "2024-05-15T08:19:32.313425Z",
     "start_time": "2024-05-15T08:19:32.305430Z"
    }
   },
   "cell_type": "code",
   "source": "num_classes",
   "outputs": [
    {
     "data": {
      "text/plain": [
       "9"
      ]
     },
     "execution_count": 19,
     "metadata": {},
     "output_type": "execute_result"
    }
   ],
   "execution_count": 19
  },
  {
   "cell_type": "markdown",
   "source": [
    "## Model"
   ],
   "metadata": {
    "id": "nxtTGLqbFZgB"
   }
  },
  {
   "cell_type": "code",
   "source": [
    "class Model_0(nn.Module):\n",
    "    def __init__(self, input_size, num_classes):\n",
    "        super(Model_0, self).__init__()\n",
    "        self.layers = nn.Sequential(\n",
    "            nn.Linear(input_size, num_classes), # Input layer to output layer, tantes neurones com classes\n",
    "            nn.Softmax(dim=1) # Mandatory activation to normalize probabilities between 0 and 1\n",
    "        )\n",
    "\n",
    "    def forward(self, x):\n",
    "        return self.layers(x)\n",
    "\n",
    "model = create_model(Model_0, input_size, num_classes)"
   ],
   "metadata": {
    "id": "lMfKqYDD0h9t",
    "ExecuteTime": {
     "end_time": "2024-05-15T08:19:37.638243Z",
     "start_time": "2024-05-15T08:19:37.629434Z"
    }
   },
   "outputs": [
    {
     "name": "stdout",
     "output_type": "stream",
     "text": [
      "The model has 576 parameters\n"
     ]
    }
   ],
   "execution_count": 20
  },
  {
   "cell_type": "markdown",
   "source": [
    "## Training"
   ],
   "metadata": {
    "id": "lPFEpDkJFbln"
   }
  },
  {
   "cell_type": "code",
   "source": [
    "%%time\n",
    "losses = train(model, train_dataset, num_epochs=5, lr=0.001)"
   ],
   "metadata": {
    "id": "hfENvrBr0h9u"
   },
   "execution_count": 21,
   "outputs": [
    {
     "name": "stdout",
     "output_type": "stream",
     "text": [
      "Epoch [5/5] | Mean epoch loss: 2.2669\n",
      "CPU times: user 22.6 s, sys: 470 ms, total: 23.1 s\n",
      "Wall time: 8.32 s\n"
     ]
    }
   ]
  },
  {
   "cell_type": "markdown",
   "source": [
    "## Evaluation"
   ],
   "metadata": {
    "id": "cVEQFf7xGypd"
   }
  },
  {
   "cell_type": "code",
   "source": [
    "train_accuracy, _, _ = evaluate(model, train_dataset)\n",
    "test_accuracy, test_all_targets, test_all_predicted = evaluate(model, test_dataset)\n",
    "\n",
    "print(f'Train accuracy: {train_accuracy*100:.2f}%')\n",
    "print(f'Test accuracy: {test_accuracy*100:.2f}%')\n",
    "\n",
    "plot_confusion_matrix(test_all_targets, test_all_predicted, label_encoder)"
   ],
   "metadata": {
    "id": "nDHtcS7tGfBf",
    "ExecuteTime": {
     "end_time": "2024-05-15T08:19:49.154776Z",
     "start_time": "2024-05-15T08:19:48.222236Z"
    }
   },
   "outputs": [
    {
     "name": "stdout",
     "output_type": "stream",
     "text": [
      "Train accuracy: 9.75%\n",
      "Test accuracy: 9.72%\n"
     ]
    },
    {
     "data": {
      "text/plain": [
       "<Figure size 1000x800 with 2 Axes>"
      ],
      "image/png": "[encoded data removed]"
     },
     "metadata": {},
     "output_type": "display_data"
    }
   ],
   "execution_count": 22
  },
  {
   "cell_type": "markdown",
   "source": [
    "# Student: Experiments\n",
    "<a name=\"experiments\"></a>\n",
    "\n",
    "In this section, the student will have to create two or three consequent solutions for the **Manufacturer classification task**. Each solution must contain the following components:\n",
    "* **Idea**: What is the target/reasoning of the solution (e.g., I observed that the previous model had a very reduced size and I want to explore the effects of using a bigger model).\n",
    "* **Preprocessing**: Prepare the desired features of your dataframe for the neural network. To this end, students can <font color='orange'>**only use Pandas' functions**</font>.\n",
    "* **Model**: Definition of the Multi-Layer Perceptron model, **only** using [Linear](https://pytorch.org/docs/stable/generated/torch.nn.Linear.html) layers and\n",
    " [activations from this list](https://pytorch.org/docs/stable/nn.html#non-linear-activations-weighted-sum-nonlinearity).\n",
    "* **Training**: Perform the learning process trying to maximize the results.\n",
    "* **Evaluation**: Measuring the performance of the trained model.\n",
    "* **Results analysis**: Examination of the solution, focusing in:\n",
    "  * Training\n",
    "  * Accuracy\n",
    "  * Confusion matrix\n",
    "  * Training time\n",
    "\n",
    "It can be seen that these are the same as for the baseline solution, but adding the **Idea** and **Results analysis** components. An extended analysis of the baseline results will also be requested.\n",
    "\n",
    "None of the solutions has to be the best/ideal, but all of them must be better than the [baseline](#baseline). The idea is to present consequent solutions, being each one the coherent next step of the previous one (the previous step of [Solution 1A](#solution_1a) is the [baseline](#baseline)). This does not imply that each solution has to improve the results of the previous one, but to modify at least one of the components (i.e., preprocessing or model) in a significant and coherent way.\n",
    "\n",
    "In particular, we aim for the first two solutions ([Solution 1A](#solution_1a) and [Solution 1B](#solution_1b)) to emphasize preprocessing. Specifically, both will utilize the same basic MLP model (better than that of the [baseline](#baseline)) but experiment with two distinct preprocessing approaches. An explicit comparison of these preprocessing methods and their respective outcomes is necessary. For [Solution 2](#solution_2), the preprocessing method from one of the earlier solutions will be employed. The goal of this final solution is to enhance results by improving/refining the MLP model."
   ],
   "metadata": {
    "id": "WEdi-JcS0h9s"
   }
  },
  {
   "cell_type": "markdown",
   "source": [
    "## Analysis of baseline\n",
    "Provide a comprehensive analysis of the [baseline solution](#baseline). Apart from the results (i.e., **training, accuracy, confusion matrix and runtime**), a review of the solution design (i.e., **preprocessing and model**) is also required. It is not necessary to explain or analysis the code, but the choices. For instance, which features are used and how."
   ],
   "metadata": {
    "id": "p1FFO8IUJJud"
   }
  },
  {
   "cell_type": "markdown",
   "source": [
    "TODO: YOUR ANALYSIS HERE"
   ],
   "metadata": {
    "id": "MZ9k9S4uJMRy"
   }
  },
  {
   "cell_type": "markdown",
   "source": [
    "## Common functions\n",
    "For avoiding code repetition along all the solutions, you can use this subsection for your common functions and/or classes."
   ],
   "metadata": {
    "id": "5iMQfqcc0h9t"
   }
  },
  {
   "cell_type": "code",
   "source": "df = data_loading(\"CarsData.csv\")",
   "metadata": {
    "id": "uA7dXeUIxyh2",
    "ExecuteTime": {
     "end_time": "2024-05-13T14:55:13.967480Z",
     "start_time": "2024-05-13T14:55:13.845769Z"
    }
   },
   "outputs": [],
   "execution_count": 23
  },
  {
   "metadata": {
    "ExecuteTime": {
     "end_time": "2024-05-13T14:55:15.573269Z",
     "start_time": "2024-05-13T14:55:15.569846Z"
    }
   },
   "cell_type": "code",
   "source": [
    "def min_max_scaling(df, cols):\n",
    "    for col in cols:\n",
    "        df[col] = (df[col] - df[col].min()) / (df[col].max() - df[col].min())\n",
    "    return df"
   ],
   "outputs": [],
   "execution_count": 24
  },
  {
   "metadata": {},
   "cell_type": "markdown",
   "source": [
    "## Solution 1A: First preprocessing\n",
    "<a name=\"solution_1a\"></a>\n",
    "\n",
    "Subsequent of [Baseline](#baseline), it implements a basic MLP (better than the provided at the baseline) and a first option for the preprocessing step."
   ]
  },
  {
   "metadata": {
    "ExecuteTime": {
     "end_time": "2024-05-13T14:55:17.076697Z",
     "start_time": "2024-05-13T14:55:17.043763Z"
    }
   },
   "cell_type": "code",
   "source": [
    "preprocessed_df = df.copy()\n",
    "# Define columns to use and categorical\n",
    "categorical_cols = [\"transmission\", \"fuelType\"]\n",
    "test_df = preprocessed_df[categorical_cols]\n",
    "\n",
    "for col in categorical_cols:\n",
    "    new_column_data = pd.get_dummies(test_df[col], prefix=col)\n",
    "    test_df = pd.concat([test_df, new_column_data], axis=1)\n",
    "\n",
    "test_df"
   ],
   "outputs": [
    {
     "data": {
      "text/plain": [
       "      transmission fuelType  transmission_Automatic  transmission_Manual  \\\n",
       "0           Manual   Diesel                   False                 True   \n",
       "1        Automatic   Hybrid                    True                False   \n",
       "2           Manual   Petrol                   False                 True   \n",
       "3           Manual   Petrol                   False                 True   \n",
       "4           Manual   Petrol                   False                 True   \n",
       "...            ...      ...                     ...                  ...   \n",
       "24423       Manual   Diesel                   False                 True   \n",
       "24424       Manual   Petrol                   False                 True   \n",
       "24425       Manual   Diesel                   False                 True   \n",
       "24426       Manual   Petrol                   False                 True   \n",
       "24427       Manual   Petrol                   False                 True   \n",
       "\n",
       "       transmission_Other  transmission_Semi-Auto  fuelType_Diesel  \\\n",
       "0                   False                   False             True   \n",
       "1                   False                   False            False   \n",
       "2                   False                   False            False   \n",
       "3                   False                   False            False   \n",
       "4                   False                   False            False   \n",
       "...                   ...                     ...              ...   \n",
       "24423               False                   False             True   \n",
       "24424               False                   False            False   \n",
       "24425               False                   False             True   \n",
       "24426               False                   False            False   \n",
       "24427               False                   False            False   \n",
       "\n",
       "       fuelType_Electric  fuelType_Hybrid  fuelType_Other  fuelType_Petrol  \n",
       "0                  False            False           False            False  \n",
       "1                  False             True           False            False  \n",
       "2                  False            False           False             True  \n",
       "3                  False            False           False             True  \n",
       "4                  False            False           False             True  \n",
       "...                  ...              ...             ...              ...  \n",
       "24423              False            False           False            False  \n",
       "24424              False            False           False             True  \n",
       "24425              False            False           False            False  \n",
       "24426              False            False           False             True  \n",
       "24427              False            False           False             True  \n",
       "\n",
       "[24428 rows x 11 columns]"
      ],
      "text/html": [
       "<div>\n",
       "<style scoped>\n",
       "    .dataframe tbody tr th:only-of-type {\n",
       "        vertical-align: middle;\n",
       "    }\n",
       "\n",
       "    .dataframe tbody tr th {\n",
       "        vertical-align: top;\n",
       "    }\n",
       "\n",
       "    .dataframe thead th {\n",
       "        text-align: right;\n",
       "    }\n",
       "</style>\n",
       "<table border=\"1\" class=\"dataframe\">\n",
       "  <thead>\n",
       "    <tr style=\"text-align: right;\">\n",
       "      <th></th>\n",
       "      <th>transmission</th>\n",
       "      <th>fuelType</th>\n",
       "      <th>transmission_Automatic</th>\n",
       "      <th>transmission_Manual</th>\n",
       "      <th>transmission_Other</th>\n",
       "      <th>transmission_Semi-Auto</th>\n",
       "      <th>fuelType_Diesel</th>\n",
       "      <th>fuelType_Electric</th>\n",
       "      <th>fuelType_Hybrid</th>\n",
       "      <th>fuelType_Other</th>\n",
       "      <th>fuelType_Petrol</th>\n",
       "    </tr>\n",
       "  </thead>\n",
       "  <tbody>\n",
       "    <tr>\n",
       "      <th>0</th>\n",
       "      <td>Manual</td>\n",
       "      <td>Diesel</td>\n",
       "      <td>False</td>\n",
       "      <td>True</td>\n",
       "      <td>False</td>\n",
       "      <td>False</td>\n",
       "      <td>True</td>\n",
       "      <td>False</td>\n",
       "      <td>False</td>\n",
       "      <td>False</td>\n",
       "      <td>False</td>\n",
       "    </tr>\n",
       "    <tr>\n",
       "      <th>1</th>\n",
       "      <td>Automatic</td>\n",
       "      <td>Hybrid</td>\n",
       "      <td>True</td>\n",
       "      <td>False</td>\n",
       "      <td>False</td>\n",
       "      <td>False</td>\n",
       "      <td>False</td>\n",
       "      <td>False</td>\n",
       "      <td>True</td>\n",
       "      <td>False</td>\n",
       "      <td>False</td>\n",
       "    </tr>\n",
       "    <tr>\n",
       "      <th>2</th>\n",
       "      <td>Manual</td>\n",
       "      <td>Petrol</td>\n",
       "      <td>False</td>\n",
       "      <td>True</td>\n",
       "      <td>False</td>\n",
       "      <td>False</td>\n",
       "      <td>False</td>\n",
       "      <td>False</td>\n",
       "      <td>False</td>\n",
       "      <td>False</td>\n",
       "      <td>True</td>\n",
       "    </tr>\n",
       "    <tr>\n",
       "      <th>3</th>\n",
       "      <td>Manual</td>\n",
       "      <td>Petrol</td>\n",
       "      <td>False</td>\n",
       "      <td>True</td>\n",
       "      <td>False</td>\n",
       "      <td>False</td>\n",
       "      <td>False</td>\n",
       "      <td>False</td>\n",
       "      <td>False</td>\n",
       "      <td>False</td>\n",
       "      <td>True</td>\n",
       "    </tr>\n",
       "    <tr>\n",
       "      <th>4</th>\n",
       "      <td>Manual</td>\n",
       "      <td>Petrol</td>\n",
       "      <td>False</td>\n",
       "      <td>True</td>\n",
       "      <td>False</td>\n",
       "      <td>False</td>\n",
       "      <td>False</td>\n",
       "      <td>False</td>\n",
       "      <td>False</td>\n",
       "      <td>False</td>\n",
       "      <td>True</td>\n",
       "    </tr>\n",
       "    <tr>\n",
       "      <th>...</th>\n",
       "      <td>...</td>\n",
       "      <td>...</td>\n",
       "      <td>...</td>\n",
       "      <td>...</td>\n",
       "      <td>...</td>\n",
       "      <td>...</td>\n",
       "      <td>...</td>\n",
       "      <td>...</td>\n",
       "      <td>...</td>\n",
       "      <td>...</td>\n",
       "      <td>...</td>\n",
       "    </tr>\n",
       "    <tr>\n",
       "      <th>24423</th>\n",
       "      <td>Manual</td>\n",
       "      <td>Diesel</td>\n",
       "      <td>False</td>\n",
       "      <td>True</td>\n",
       "      <td>False</td>\n",
       "      <td>False</td>\n",
       "      <td>True</td>\n",
       "      <td>False</td>\n",
       "      <td>False</td>\n",
       "      <td>False</td>\n",
       "      <td>False</td>\n",
       "    </tr>\n",
       "    <tr>\n",
       "      <th>24424</th>\n",
       "      <td>Manual</td>\n",
       "      <td>Petrol</td>\n",
       "      <td>False</td>\n",
       "      <td>True</td>\n",
       "      <td>False</td>\n",
       "      <td>False</td>\n",
       "      <td>False</td>\n",
       "      <td>False</td>\n",
       "      <td>False</td>\n",
       "      <td>False</td>\n",
       "      <td>True</td>\n",
       "    </tr>\n",
       "    <tr>\n",
       "      <th>24425</th>\n",
       "      <td>Manual</td>\n",
       "      <td>Diesel</td>\n",
       "      <td>False</td>\n",
       "      <td>True</td>\n",
       "      <td>False</td>\n",
       "      <td>False</td>\n",
       "      <td>True</td>\n",
       "      <td>False</td>\n",
       "      <td>False</td>\n",
       "      <td>False</td>\n",
       "      <td>False</td>\n",
       "    </tr>\n",
       "    <tr>\n",
       "      <th>24426</th>\n",
       "      <td>Manual</td>\n",
       "      <td>Petrol</td>\n",
       "      <td>False</td>\n",
       "      <td>True</td>\n",
       "      <td>False</td>\n",
       "      <td>False</td>\n",
       "      <td>False</td>\n",
       "      <td>False</td>\n",
       "      <td>False</td>\n",
       "      <td>False</td>\n",
       "      <td>True</td>\n",
       "    </tr>\n",
       "    <tr>\n",
       "      <th>24427</th>\n",
       "      <td>Manual</td>\n",
       "      <td>Petrol</td>\n",
       "      <td>False</td>\n",
       "      <td>True</td>\n",
       "      <td>False</td>\n",
       "      <td>False</td>\n",
       "      <td>False</td>\n",
       "      <td>False</td>\n",
       "      <td>False</td>\n",
       "      <td>False</td>\n",
       "      <td>True</td>\n",
       "    </tr>\n",
       "  </tbody>\n",
       "</table>\n",
       "<p>24428 rows × 11 columns</p>\n",
       "</div>"
      ]
     },
     "execution_count": 25,
     "metadata": {},
     "output_type": "execute_result"
    }
   ],
   "execution_count": 25
  },
  {
   "metadata": {
    "ExecuteTime": {
     "end_time": "2024-05-13T14:55:18.804285Z",
     "start_time": "2024-05-13T14:55:18.783733Z"
    }
   },
   "cell_type": "code",
   "source": [
    "def preprocessing_1(df):\n",
    "    preprocessed_df = df.copy()\n",
    "\n",
    "    # Define columns to use and categorical\n",
    "    categorical_cols = [\"transmission\", \"fuelType\"] \n",
    "    numerical_cols = [\"year\", \"price\", \"mileage\", \"tax\", \"mpg\", \"engineSize\"]\n",
    "    columns_to_use = numerical_cols + categorical_cols\n",
    "\n",
    "    # Select columns to use\n",
    "    preprocessed_df = preprocessed_df[columns_to_use]\n",
    "\n",
    "    # One-hot encoding for categorical columns\n",
    "    for old_col in categorical_cols:\n",
    "        # One-hot encoding for that column \n",
    "        one_hot_encoding_df = pd.get_dummies(preprocessed_df[old_col])\n",
    "\n",
    "        # Append the new columns to the preprocessed dataframe\n",
    "        for new_col in one_hot_encoding_df.columns:\n",
    "            preprocessed_df[new_col] = one_hot_encoding_df[new_col] * 1  # Convert boolean to int\n",
    "\n",
    "        # Remove the old categorical column\n",
    "        del preprocessed_df[old_col]\n",
    "\n",
    "    \n",
    "    # Normalize numerical columns\n",
    "    for col in numerical_cols:\n",
    "        # Min-max normalization o standard deviation normalization depend de l'anàlisi anterior\n",
    "        preprocessed_df[col] = ((preprocessed_df[col] - preprocessed_df[col].min()) / (preprocessed_df[col].max() - preprocessed_df[col].min()))\n",
    "    \n",
    "    # Label column at the end\n",
    "    preprocessed_df[LABEL_COL_NAME] = df[LABEL_COL_NAME]\n",
    "\n",
    "    return preprocessed_df\n",
    "\n",
    "\n",
    "preprocessed_df1A = preprocessing_1(df)\n",
    "train_dataset1A, test_dataset1A, input_size1A, num_classes1A, label_encoder1A = df_to_dataset(preprocessed_df1A)"
   ],
   "outputs": [],
   "execution_count": 26
  },
  {
   "metadata": {
    "ExecuteTime": {
     "end_time": "2024-05-13T14:55:21.458982Z",
     "start_time": "2024-05-13T14:55:21.452484Z"
    }
   },
   "cell_type": "code",
   "source": "input_size1A",
   "outputs": [
    {
     "data": {
      "text/plain": [
       "14"
      ]
     },
     "execution_count": 27,
     "metadata": {},
     "output_type": "execute_result"
    }
   ],
   "execution_count": 27
  },
  {
   "metadata": {
    "ExecuteTime": {
     "end_time": "2024-05-13T14:55:22.224631Z",
     "start_time": "2024-05-13T14:55:22.220231Z"
    }
   },
   "cell_type": "code",
   "source": "num_classes1A",
   "outputs": [
    {
     "data": {
      "text/plain": [
       "9"
      ]
     },
     "execution_count": 28,
     "metadata": {},
     "output_type": "execute_result"
    }
   ],
   "execution_count": 28
  },
  {
   "metadata": {
    "ExecuteTime": {
     "end_time": "2024-05-13T14:55:24.161712Z",
     "start_time": "2024-05-13T14:55:24.153154Z"
    }
   },
   "cell_type": "code",
   "source": "train_dataset1A[0]",
   "outputs": [
    {
     "data": {
      "text/plain": [
       "(tensor([0.8636, 0.1685, 0.1097, 0.2586, 0.1231, 0.3030, 0.0000, 0.0000, 0.0000,\n",
       "         1.0000, 1.0000, 0.0000, 0.0000, 0.0000]),\n",
       " tensor(0))"
      ]
     },
     "execution_count": 29,
     "metadata": {},
     "output_type": "execute_result"
    }
   ],
   "execution_count": 29
  },
  {
   "metadata": {
    "ExecuteTime": {
     "end_time": "2024-05-13T14:55:25.611028Z",
     "start_time": "2024-05-13T14:55:25.606268Z"
    }
   },
   "cell_type": "code",
   "source": "label_encoder1A.classes_",
   "outputs": [
    {
     "data": {
      "text/plain": [
       "array(['Audi', 'BMW', 'ford', 'hyundi', 'merc', 'skoda', 'toyota',\n",
       "       'vauxhall', 'volkswagen'], dtype=object)"
      ]
     },
     "execution_count": 30,
     "metadata": {},
     "output_type": "execute_result"
    }
   ],
   "execution_count": 30
  },
  {
   "metadata": {
    "ExecuteTime": {
     "end_time": "2024-05-13T14:55:27.089463Z",
     "start_time": "2024-05-13T14:55:27.072695Z"
    }
   },
   "cell_type": "code",
   "source": [
    "class Model_1A(nn.Module):\n",
    "    def __init__(self, input_size1A, num_classes1A):\n",
    "        super(Model_1A, self).__init__() \n",
    "        self.layers = nn.Sequential( # Capa per capa el que volem que faci\n",
    "            nn.Linear(input_size1A, num_classes1A), # Input layer to output layer, tantes neurones com classes\n",
    "            # nn.Linear(input_size1A, num_classes1A), # input_size neurones a la capa d'entrada\n",
    "            #nn.Linear(input_size1A, num_classes1A), # num_classes neurones a la capa de sortida\n",
    "          \n",
    "            nn.Softmax(dim=1) # Mandatory activation to normalize probabilities between 0 and 1\n",
    "        )\n",
    "\n",
    "    def forward(self, x):\n",
    "        return self.layers(x)\n",
    "\n",
    "model1A = create_model(Model_1A, input_size1A, num_classes1A)"
   ],
   "outputs": [
    {
     "name": "stdout",
     "output_type": "stream",
     "text": [
      "The model has 540 parameters\n"
     ]
    }
   ],
   "execution_count": 31
  },
  {
   "metadata": {},
   "cell_type": "code",
   "outputs": [],
   "execution_count": null,
   "source": [
    "class Model1_1A(nn.Module):\n",
    "    def __init__(self, input_size1A, num_classes1A):\n",
    "        super(Model_1A, self).__init__() \n",
    "        self.layers = nn.Sequential(\n",
    "            nn.Linear(input_size1A, 32), # Input layer to hidden layer\n",
    "            nn.ReLU(),\n",
    "            nn.Linear(32, 64), # Hidden layer \n",
    "            nn.ReLU(),\n",
    "            nn.Linear(64, num_classes1A), # Output layer\n",
    "          \n",
    "            nn.Softmax(dim=1) # Mandatory activation to normalize probabilities between 0 and 1\n",
    "        )\n",
    "\n",
    "    def forward(self, x):\n",
    "        return self.layers(x)\n",
    "\n",
    "model1A = create_model(Model_1A, input_size1A, num_classes1A)"
   ]
  },
  {
   "metadata": {},
   "cell_type": "code",
   "outputs": [],
   "execution_count": null,
   "source": [
    "class Model_2(nn.Module):\n",
    "    def __init__(self, input_size1A, num_classes1A, hidden_size1A = 128):\n",
    "        super(Model_1A, self).__init__() \n",
    "        self.layers = nn.Sequential(\n",
    "            nn.Linear(input_size1A, hidden_size1A), # Input layer to hidden layer\n",
    "          \n",
    "            nn.ReLU(),\n",
    "            nn.Linear(hidden_size1A, hidden_size1A), # Hidden layer \n",
    "            nn.ReLU(),\n",
    "            nn.Linear(hidden_size1A, hidden_size1A), # Hidden layer \n",
    "            nn.ReLU(),\n",
    "            nn.Linear(hidden_size1A, hidden_size1A), # Hidden layer \n",
    "            nn.ReLU(),\n",
    "            nn.Linear(hidden_size1A, num_classes1A), # Output layer\n",
    "          \n",
    "            nn.Softmax(dim=1) # Mandatory activation to normalize probabilities between 0 and 1\n",
    "        )\n",
    "\n",
    "    def forward(self, x):\n",
    "        return self.layers(x)\n",
    "\n",
    "model1A = create_model(Model_2, input_size1A, num_classes1A)"
   ]
  },
  {
   "metadata": {},
   "cell_type": "code",
   "outputs": [],
   "execution_count": null,
   "source": ""
  },
  {
   "metadata": {
    "ExecuteTime": {
     "end_time": "2024-05-13T14:55:29.250425Z",
     "start_time": "2024-05-13T14:55:29.227713Z"
    }
   },
   "cell_type": "code",
   "source": "preprocessed_df1A",
   "outputs": [
    {
     "data": {
      "text/plain": [
       "           year     price   mileage       tax       mpg  engineSize  \\\n",
       "0      0.863636  0.086796  0.168939  0.250000  0.144347    0.303030   \n",
       "1      0.818182  0.168480  0.098892  0.034483  0.115606    0.378788   \n",
       "2      0.818182  0.046639  0.149255  0.215517  0.113264    0.212121   \n",
       "3      0.863636  0.065793  0.066216  0.250000  0.107090    0.212121   \n",
       "4      0.909091  0.071745  0.042448  0.250000  0.137535    0.151515   \n",
       "...         ...       ...       ...       ...       ...         ...   \n",
       "24423  0.954545  0.200749  0.006981  0.250000  0.109006    0.303030   \n",
       "24424  0.909091  0.109184  0.069035  0.250000  0.094741    0.227273   \n",
       "24425  0.818182  0.063412  0.061923  0.051724  0.134341    0.242424   \n",
       "24426  0.772727  0.045858  0.114788  0.215517  0.104961    0.212121   \n",
       "24427  0.863636  0.060952  0.035525  0.000000  0.137535    0.151515   \n",
       "\n",
       "       Automatic  Manual  Other  Semi-Auto  Diesel  Electric  Hybrid  Petrol  \\\n",
       "0              0       1      0          0       1         0       0       0   \n",
       "1              1       0      0          0       0         0       1       0   \n",
       "2              0       1      0          0       0         0       0       1   \n",
       "3              0       1      0          0       0         0       0       1   \n",
       "4              0       1      0          0       0         0       0       1   \n",
       "...          ...     ...    ...        ...     ...       ...     ...     ...   \n",
       "24423          0       1      0          0       1         0       0       0   \n",
       "24424          0       1      0          0       0         0       0       1   \n",
       "24425          0       1      0          0       1         0       0       0   \n",
       "24426          0       1      0          0       0         0       0       1   \n",
       "24427          0       1      0          0       0         0       0       1   \n",
       "\n",
       "      Manufacturer  \n",
       "0       volkswagen  \n",
       "1           toyota  \n",
       "2         vauxhall  \n",
       "3         vauxhall  \n",
       "4             ford  \n",
       "...            ...  \n",
       "24423        skoda  \n",
       "24424         ford  \n",
       "24425       hyundi  \n",
       "24426       hyundi  \n",
       "24427         ford  \n",
       "\n",
       "[24428 rows x 15 columns]"
      ],
      "text/html": [
       "<div>\n",
       "<style scoped>\n",
       "    .dataframe tbody tr th:only-of-type {\n",
       "        vertical-align: middle;\n",
       "    }\n",
       "\n",
       "    .dataframe tbody tr th {\n",
       "        vertical-align: top;\n",
       "    }\n",
       "\n",
       "    .dataframe thead th {\n",
       "        text-align: right;\n",
       "    }\n",
       "</style>\n",
       "<table border=\"1\" class=\"dataframe\">\n",
       "  <thead>\n",
       "    <tr style=\"text-align: right;\">\n",
       "      <th></th>\n",
       "      <th>year</th>\n",
       "      <th>price</th>\n",
       "      <th>mileage</th>\n",
       "      <th>tax</th>\n",
       "      <th>mpg</th>\n",
       "      <th>engineSize</th>\n",
       "      <th>Automatic</th>\n",
       "      <th>Manual</th>\n",
       "      <th>Other</th>\n",
       "      <th>Semi-Auto</th>\n",
       "      <th>Diesel</th>\n",
       "      <th>Electric</th>\n",
       "      <th>Hybrid</th>\n",
       "      <th>Petrol</th>\n",
       "      <th>Manufacturer</th>\n",
       "    </tr>\n",
       "  </thead>\n",
       "  <tbody>\n",
       "    <tr>\n",
       "      <th>0</th>\n",
       "      <td>0.863636</td>\n",
       "      <td>0.086796</td>\n",
       "      <td>0.168939</td>\n",
       "      <td>0.250000</td>\n",
       "      <td>0.144347</td>\n",
       "      <td>0.303030</td>\n",
       "      <td>0</td>\n",
       "      <td>1</td>\n",
       "      <td>0</td>\n",
       "      <td>0</td>\n",
       "      <td>1</td>\n",
       "      <td>0</td>\n",
       "      <td>0</td>\n",
       "      <td>0</td>\n",
       "      <td>volkswagen</td>\n",
       "    </tr>\n",
       "    <tr>\n",
       "      <th>1</th>\n",
       "      <td>0.818182</td>\n",
       "      <td>0.168480</td>\n",
       "      <td>0.098892</td>\n",
       "      <td>0.034483</td>\n",
       "      <td>0.115606</td>\n",
       "      <td>0.378788</td>\n",
       "      <td>1</td>\n",
       "      <td>0</td>\n",
       "      <td>0</td>\n",
       "      <td>0</td>\n",
       "      <td>0</td>\n",
       "      <td>0</td>\n",
       "      <td>1</td>\n",
       "      <td>0</td>\n",
       "      <td>toyota</td>\n",
       "    </tr>\n",
       "    <tr>\n",
       "      <th>2</th>\n",
       "      <td>0.818182</td>\n",
       "      <td>0.046639</td>\n",
       "      <td>0.149255</td>\n",
       "      <td>0.215517</td>\n",
       "      <td>0.113264</td>\n",
       "      <td>0.212121</td>\n",
       "      <td>0</td>\n",
       "      <td>1</td>\n",
       "      <td>0</td>\n",
       "      <td>0</td>\n",
       "      <td>0</td>\n",
       "      <td>0</td>\n",
       "      <td>0</td>\n",
       "      <td>1</td>\n",
       "      <td>vauxhall</td>\n",
       "    </tr>\n",
       "    <tr>\n",
       "      <th>3</th>\n",
       "      <td>0.863636</td>\n",
       "      <td>0.065793</td>\n",
       "      <td>0.066216</td>\n",
       "      <td>0.250000</td>\n",
       "      <td>0.107090</td>\n",
       "      <td>0.212121</td>\n",
       "      <td>0</td>\n",
       "      <td>1</td>\n",
       "      <td>0</td>\n",
       "      <td>0</td>\n",
       "      <td>0</td>\n",
       "      <td>0</td>\n",
       "      <td>0</td>\n",
       "      <td>1</td>\n",
       "      <td>vauxhall</td>\n",
       "    </tr>\n",
       "    <tr>\n",
       "      <th>4</th>\n",
       "      <td>0.909091</td>\n",
       "      <td>0.071745</td>\n",
       "      <td>0.042448</td>\n",
       "      <td>0.250000</td>\n",
       "      <td>0.137535</td>\n",
       "      <td>0.151515</td>\n",
       "      <td>0</td>\n",
       "      <td>1</td>\n",
       "      <td>0</td>\n",
       "      <td>0</td>\n",
       "      <td>0</td>\n",
       "      <td>0</td>\n",
       "      <td>0</td>\n",
       "      <td>1</td>\n",
       "      <td>ford</td>\n",
       "    </tr>\n",
       "    <tr>\n",
       "      <th>...</th>\n",
       "      <td>...</td>\n",
       "      <td>...</td>\n",
       "      <td>...</td>\n",
       "      <td>...</td>\n",
       "      <td>...</td>\n",
       "      <td>...</td>\n",
       "      <td>...</td>\n",
       "      <td>...</td>\n",
       "      <td>...</td>\n",
       "      <td>...</td>\n",
       "      <td>...</td>\n",
       "      <td>...</td>\n",
       "      <td>...</td>\n",
       "      <td>...</td>\n",
       "      <td>...</td>\n",
       "    </tr>\n",
       "    <tr>\n",
       "      <th>24423</th>\n",
       "      <td>0.954545</td>\n",
       "      <td>0.200749</td>\n",
       "      <td>0.006981</td>\n",
       "      <td>0.250000</td>\n",
       "      <td>0.109006</td>\n",
       "      <td>0.303030</td>\n",
       "      <td>0</td>\n",
       "      <td>1</td>\n",
       "      <td>0</td>\n",
       "      <td>0</td>\n",
       "      <td>1</td>\n",
       "      <td>0</td>\n",
       "      <td>0</td>\n",
       "      <td>0</td>\n",
       "      <td>skoda</td>\n",
       "    </tr>\n",
       "    <tr>\n",
       "      <th>24424</th>\n",
       "      <td>0.909091</td>\n",
       "      <td>0.109184</td>\n",
       "      <td>0.069035</td>\n",
       "      <td>0.250000</td>\n",
       "      <td>0.094741</td>\n",
       "      <td>0.227273</td>\n",
       "      <td>0</td>\n",
       "      <td>1</td>\n",
       "      <td>0</td>\n",
       "      <td>0</td>\n",
       "      <td>0</td>\n",
       "      <td>0</td>\n",
       "      <td>0</td>\n",
       "      <td>1</td>\n",
       "      <td>ford</td>\n",
       "    </tr>\n",
       "    <tr>\n",
       "      <th>24425</th>\n",
       "      <td>0.818182</td>\n",
       "      <td>0.063412</td>\n",
       "      <td>0.061923</td>\n",
       "      <td>0.051724</td>\n",
       "      <td>0.134341</td>\n",
       "      <td>0.242424</td>\n",
       "      <td>0</td>\n",
       "      <td>1</td>\n",
       "      <td>0</td>\n",
       "      <td>0</td>\n",
       "      <td>1</td>\n",
       "      <td>0</td>\n",
       "      <td>0</td>\n",
       "      <td>0</td>\n",
       "      <td>hyundi</td>\n",
       "    </tr>\n",
       "    <tr>\n",
       "      <th>24426</th>\n",
       "      <td>0.772727</td>\n",
       "      <td>0.045858</td>\n",
       "      <td>0.114788</td>\n",
       "      <td>0.215517</td>\n",
       "      <td>0.104961</td>\n",
       "      <td>0.212121</td>\n",
       "      <td>0</td>\n",
       "      <td>1</td>\n",
       "      <td>0</td>\n",
       "      <td>0</td>\n",
       "      <td>0</td>\n",
       "      <td>0</td>\n",
       "      <td>0</td>\n",
       "      <td>1</td>\n",
       "      <td>hyundi</td>\n",
       "    </tr>\n",
       "    <tr>\n",
       "      <th>24427</th>\n",
       "      <td>0.863636</td>\n",
       "      <td>0.060952</td>\n",
       "      <td>0.035525</td>\n",
       "      <td>0.000000</td>\n",
       "      <td>0.137535</td>\n",
       "      <td>0.151515</td>\n",
       "      <td>0</td>\n",
       "      <td>1</td>\n",
       "      <td>0</td>\n",
       "      <td>0</td>\n",
       "      <td>0</td>\n",
       "      <td>0</td>\n",
       "      <td>0</td>\n",
       "      <td>1</td>\n",
       "      <td>ford</td>\n",
       "    </tr>\n",
       "  </tbody>\n",
       "</table>\n",
       "<p>24428 rows × 15 columns</p>\n",
       "</div>"
      ]
     },
     "execution_count": 32,
     "metadata": {},
     "output_type": "execute_result"
    }
   ],
   "execution_count": 32
  },
  {
   "metadata": {},
   "cell_type": "code",
   "source": [
    "%%time\n",
    "losses1A = train(model1A, train_dataset1A, num_epochs=5, lr=0.005)"
   ],
   "execution_count": 33,
   "outputs": [
    {
     "name": "stdout",
     "output_type": "stream",
     "text": [
      "Epoch [5/5] | Mean epoch loss: 2.0503\n",
      "CPU times: user 4.96 s, sys: 262 ms, total: 5.22 s\n",
      "Wall time: 5.06 s\n"
     ]
    }
   ]
  },
  {
   "metadata": {
    "ExecuteTime": {
     "end_time": "2024-05-13T14:55:41.993796Z",
     "start_time": "2024-05-13T14:55:41.398393Z"
    }
   },
   "cell_type": "code",
   "source": [
    "train_accuracy, _, _ = evaluate(model1A, train_dataset1A)\n",
    "test_accuracy, test_all_targets, test_all_predicted = evaluate(model, test_dataset)\n",
    "\n",
    "print(f'Train accuracy: {train_accuracy*100:.2f}%')\n",
    "print(f'Test accuracy: {test_accuracy*100:.2f}%')\n",
    "\n",
    "plot_confusion_matrix(test_all_targets, test_all_predicted, label_encoder)"
   ],
   "outputs": [
    {
     "name": "stdout",
     "output_type": "stream",
     "text": [
      "Train accuracy: 33.78%\n",
      "Test accuracy: 18.34%\n"
     ]
    },
    {
     "data": {
      "text/plain": [
       "<Figure size 1000x800 with 2 Axes>"
      ],
      "image/png": "[encoded data removed]"
     },
     "metadata": {},
     "output_type": "display_data"
    }
   ],
   "execution_count": 34
  },
  {
   "cell_type": "markdown",
   "source": [
    "## Solution 1B: Second preprocessing solution\n",
    "<a name=\"solution_1b\"></a>\n",
    "\n",
    "Subsequent of the [Solution 1A](#solution_1a), uses the same basic MLP but with an alternative preprocessing step."
   ],
   "metadata": {
    "id": "-xwZAE4I0h9u"
   }
  },
  {
   "cell_type": "code",
   "source": " # COMPARAR EL PREPROCESSAT, MODEL HA DE SER EL MATEIX, JA EL TINC, EL QUE VALORA ES ANALYSIS DELS RESULTATS I EL PREPROCESSAT",
   "metadata": {
    "id": "TOhUVc6lx9Kh"
   },
   "execution_count": null,
   "outputs": []
  },
  {
   "metadata": {
    "ExecuteTime": {
     "end_time": "2024-05-13T14:58:09.416851Z",
     "start_time": "2024-05-13T14:58:09.349433Z"
    }
   },
   "cell_type": "code",
   "source": [
    "def preprocessing_2(df):\n",
    "    preprocessed_df = df.copy()\n",
    "\n",
    "    # Define columns to use and categorical\n",
    "    categorical_cols = [\"transmission\", \"fuelType\"]\n",
    "    numerical_cols = [\"year\", \"price\", \"mileage\", \"tax\", \"mpg\", \"engineSize\"]\n",
    "    columns_to_use = numerical_cols + categorical_cols\n",
    "\n",
    "    # Select columns to use\n",
    "    preprocessed_df = preprocessed_df[columns_to_use]\n",
    "\n",
    "    # One-hot encoding for categorical columns\n",
    "    for col in categorical_cols:\n",
    "        onehot_encoder = OneHotEncoder()\n",
    "        onehot_encoded = onehot_encoder.fit_transform(preprocessed_df[[col]])\n",
    "        onehot_df = pd.DataFrame(onehot_encoded.toarray(), columns=[f\"{col}_{cat}\" for cat in onehot_encoder.categories_[0]])\n",
    "        preprocessed_df = pd.concat([preprocessed_df, onehot_df], axis=1)\n",
    "        preprocessed_df.drop(col, axis=1, inplace=True)\n",
    "\n",
    "    # Min-max scaling for numerical columns\n",
    "    for col in numerical_cols:\n",
    "        preprocessed_df[col] = (preprocessed_df[col] - preprocessed_df[col].min()) / (preprocessed_df[col].max() - preprocessed_df[col].min())\n",
    "\n",
    "\n",
    "    return preprocessed_df\n",
    "\n",
    "preprocessed_df1B = preprocessing_2(df)\n",
    "train_dataset1B, test_dataset1B, input_size1B, num_classes1B, label_encoder1B = df_to_dataset(preprocessed_df1B)"
   ],
   "outputs": [
    {
     "ename": "Exception",
     "evalue": "Dataframe MUST contain the label column [Manufacturer], preferably in the last column.",
     "output_type": "error",
     "traceback": [
      "\u001B[0;31m---------------------------------------------------------------------------\u001B[0m",
      "\u001B[0;31mException\u001B[0m                                 Traceback (most recent call last)",
      "Cell \u001B[0;32mIn[39], line 28\u001B[0m\n\u001B[1;32m     25\u001B[0m     \u001B[38;5;28;01mreturn\u001B[39;00m preprocessed_df\n\u001B[1;32m     27\u001B[0m preprocessed_df1B \u001B[38;5;241m=\u001B[39m preprocessing_2(df)\n\u001B[0;32m---> 28\u001B[0m train_dataset1B, test_dataset1B, input_size1B, num_classes1B, label_encoder1B \u001B[38;5;241m=\u001B[39m df_to_dataset(preprocessed_df1B)\n",
      "Cell \u001B[0;32mIn[8], line 3\u001B[0m, in \u001B[0;36mdf_to_dataset\u001B[0;34m(preprocessed_df, label_col_name)\u001B[0m\n\u001B[1;32m      1\u001B[0m \u001B[38;5;28;01mdef\u001B[39;00m \u001B[38;5;21mdf_to_dataset\u001B[39m(preprocessed_df, label_col_name\u001B[38;5;241m=\u001B[39mLABEL_COL_NAME):\n\u001B[1;32m      2\u001B[0m   \u001B[38;5;28;01mif\u001B[39;00m \u001B[38;5;129;01mnot\u001B[39;00m label_col_name \u001B[38;5;129;01min\u001B[39;00m preprocessed_df\u001B[38;5;241m.\u001B[39mcolumns:\n\u001B[0;32m----> 3\u001B[0m     \u001B[38;5;28;01mraise\u001B[39;00m \u001B[38;5;167;01mException\u001B[39;00m(\u001B[38;5;124mf\u001B[39m\u001B[38;5;124m\"\u001B[39m\u001B[38;5;124mDataframe MUST contain the label column [\u001B[39m\u001B[38;5;132;01m{\u001B[39;00mlabel_col_name\u001B[38;5;132;01m}\u001B[39;00m\u001B[38;5;124m], preferably in the last column.\u001B[39m\u001B[38;5;124m\"\u001B[39m)\n\u001B[1;32m      5\u001B[0m   \u001B[38;5;66;03m# Obtain inputs and labels\u001B[39;00m\n\u001B[1;32m      6\u001B[0m   columns_to_discard \u001B[38;5;241m=\u001B[39m [col_name \u001B[38;5;28;01mfor\u001B[39;00m col_name \u001B[38;5;129;01min\u001B[39;00m preprocessed_df\u001B[38;5;241m.\u001B[39mcolumns \u001B[38;5;28;01mif\u001B[39;00m col_name \u001B[38;5;241m==\u001B[39m label_col_name]\n",
      "\u001B[0;31mException\u001B[0m: Dataframe MUST contain the label column [Manufacturer], preferably in the last column."
     ]
    }
   ],
   "execution_count": 39
  },
  {
   "metadata": {},
   "cell_type": "code",
   "outputs": [],
   "execution_count": null,
   "source": ""
  },
  {
   "cell_type": "markdown",
   "source": [
    "## Solution 2: New model solution\n",
    "<a name=\"solution_2\"></a>\n",
    "\n",
    "Subsequent of either [Solution 1A](#solution_1a) or [Solution 1B](#solution_1b), uses the same preprocessing step but improves the MLP model."
   ],
   "metadata": {
    "id": "3hq-iiM50h9v"
   }
  },
  {
   "cell_type": "code",
   "source": [
    "# TODO: YOUR CODE HERE"
   ],
   "metadata": {
    "id": "jDpa4tmwx9jI"
   },
   "execution_count": null,
   "outputs": []
  }
 ]
}
